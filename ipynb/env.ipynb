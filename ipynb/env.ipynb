{
 "cells": [
  {
   "cell_type": "code",
   "execution_count": 2,
   "outputs": [],
   "source": [
    "import torch\n",
    "import math\n",
    "\n",
    "dtype = torch.float16"
   ],
   "metadata": {
    "collapsed": false,
    "pycharm": {
     "name": "#%%\n"
    }
   }
  },
  {
   "cell_type": "code",
   "execution_count": 29,
   "outputs": [],
   "source": [
    "attention_mask = torch.tril(torch.ones(5, 5))"
   ],
   "metadata": {
    "collapsed": false,
    "pycharm": {
     "name": "#%%\n"
    }
   }
  },
  {
   "cell_type": "code",
   "execution_count": 30,
   "outputs": [
    {
     "data": {
      "text/plain": "tensor([[1., 0., 0., 0., 0.],\n        [1., 1., 0., 0., 0.],\n        [1., 1., 1., 0., 0.],\n        [1., 1., 1., 1., 0.],\n        [1., 1., 1., 1., 1.]])"
     },
     "execution_count": 30,
     "metadata": {},
     "output_type": "execute_result"
    }
   ],
   "source": [
    "attention_mask"
   ],
   "metadata": {
    "collapsed": false,
    "pycharm": {
     "name": "#%%\n"
    }
   }
  },
  {
   "cell_type": "code",
   "execution_count": 16,
   "outputs": [
    {
     "data": {
      "text/plain": "3.0"
     },
     "execution_count": 16,
     "metadata": {},
     "output_type": "execute_result"
    }
   ],
   "source": [
    "n_heads = 8\n",
    "math.log2(n_heads)"
   ],
   "metadata": {
    "collapsed": false,
    "pycharm": {
     "name": "#%%\n"
    }
   }
  },
  {
   "cell_type": "code",
   "execution_count": 17,
   "outputs": [
    {
     "data": {
      "text/plain": "3"
     },
     "execution_count": 17,
     "metadata": {},
     "output_type": "execute_result"
    }
   ],
   "source": [
    "math.floor(math.log2(n_heads))"
   ],
   "metadata": {
    "collapsed": false,
    "pycharm": {
     "name": "#%%\n"
    }
   }
  },
  {
   "cell_type": "code",
   "execution_count": 18,
   "outputs": [
    {
     "data": {
      "text/plain": "8"
     },
     "execution_count": 18,
     "metadata": {},
     "output_type": "execute_result"
    }
   ],
   "source": [
    "2 ** math.floor(math.log2(n_heads))"
   ],
   "metadata": {
    "collapsed": false,
    "pycharm": {
     "name": "#%%\n"
    }
   }
  },
  {
   "cell_type": "code",
   "execution_count": 19,
   "outputs": [],
   "source": [
    "pfl = 2 ** math.floor(math.log2(n_heads))"
   ],
   "metadata": {
    "collapsed": false,
    "pycharm": {
     "name": "#%%\n"
    }
   }
  },
  {
   "cell_type": "code",
   "execution_count": 20,
   "outputs": [],
   "source": [
    "base = torch.tensor(\n",
    "    2 ** (-(2 ** -(math.log2(pfl) - 3))), dtype=torch.float32\n",
    ")"
   ],
   "metadata": {
    "collapsed": false,
    "pycharm": {
     "name": "#%%\n"
    }
   }
  },
  {
   "cell_type": "code",
   "execution_count": 21,
   "outputs": [
    {
     "data": {
      "text/plain": "tensor(0.5000)"
     },
     "execution_count": 21,
     "metadata": {},
     "output_type": "execute_result"
    }
   ],
   "source": [
    "base"
   ],
   "metadata": {
    "collapsed": false,
    "pycharm": {
     "name": "#%%\n"
    }
   }
  },
  {
   "cell_type": "code",
   "execution_count": 22,
   "outputs": [],
   "source": [
    "pow_s = torch.arange(1, 1 + pfl)"
   ],
   "metadata": {
    "collapsed": false,
    "pycharm": {
     "name": "#%%\n"
    }
   }
  },
  {
   "cell_type": "code",
   "execution_count": 23,
   "outputs": [
    {
     "data": {
      "text/plain": "tensor([1, 2, 3, 4, 5, 6, 7, 8])"
     },
     "execution_count": 23,
     "metadata": {},
     "output_type": "execute_result"
    }
   ],
   "source": [
    "pow_s"
   ],
   "metadata": {
    "collapsed": false,
    "pycharm": {
     "name": "#%%\n"
    }
   }
  },
  {
   "cell_type": "code",
   "execution_count": 24,
   "outputs": [],
   "source": [
    "slops = torch.pow(base, pow_s)"
   ],
   "metadata": {
    "collapsed": false,
    "pycharm": {
     "name": "#%%\n"
    }
   }
  },
  {
   "cell_type": "code",
   "execution_count": 25,
   "outputs": [
    {
     "data": {
      "text/plain": "tensor([0.5000, 0.2500, 0.1250, 0.0625, 0.0312, 0.0156, 0.0078, 0.0039])"
     },
     "execution_count": 25,
     "metadata": {},
     "output_type": "execute_result"
    }
   ],
   "source": [
    "slops"
   ],
   "metadata": {
    "collapsed": false,
    "pycharm": {
     "name": "#%%\n"
    }
   }
  },
  {
   "cell_type": "code",
   "execution_count": 26,
   "outputs": [
    {
     "data": {
      "text/plain": "True"
     },
     "execution_count": 26,
     "metadata": {},
     "output_type": "execute_result"
    }
   ],
   "source": [
    "pfl == n_heads"
   ],
   "metadata": {
    "collapsed": false,
    "pycharm": {
     "name": "#%%\n"
    }
   }
  },
  {
   "cell_type": "code",
   "execution_count": 32,
   "outputs": [
    {
     "data": {
      "text/plain": "tensor([[0., 0., 0., 0., 0.],\n        [0., 1., 0., 0., 0.],\n        [0., 1., 2., 0., 0.],\n        [0., 1., 2., 3., 0.],\n        [0., 1., 2., 3., 4.]])"
     },
     "execution_count": 32,
     "metadata": {},
     "output_type": "execute_result"
    }
   ],
   "source": [
    "(attention_mask.cumsum(dim=-1) - 1) * attention_mask"
   ],
   "metadata": {
    "collapsed": false,
    "pycharm": {
     "name": "#%%\n"
    }
   }
  },
  {
   "cell_type": "code",
   "execution_count": 33,
   "outputs": [],
   "source": [
    "arange_mask = (attention_mask.cumsum(dim=-1) - 1) * attention_mask"
   ],
   "metadata": {
    "collapsed": false,
    "pycharm": {
     "name": "#%%\n"
    }
   }
  },
  {
   "cell_type": "code",
   "execution_count": 35,
   "outputs": [],
   "source": [
    "alibi = slops[..., None] * arange_mask[:, None, :]"
   ],
   "metadata": {
    "collapsed": false,
    "pycharm": {
     "name": "#%%\n"
    }
   }
  },
  {
   "cell_type": "code",
   "execution_count": 36,
   "outputs": [
    {
     "data": {
      "text/plain": "tensor([[[0.0000, 0.0000, 0.0000, 0.0000, 0.0000],\n         [0.0000, 0.0000, 0.0000, 0.0000, 0.0000],\n         [0.0000, 0.0000, 0.0000, 0.0000, 0.0000],\n         [0.0000, 0.0000, 0.0000, 0.0000, 0.0000],\n         [0.0000, 0.0000, 0.0000, 0.0000, 0.0000],\n         [0.0000, 0.0000, 0.0000, 0.0000, 0.0000],\n         [0.0000, 0.0000, 0.0000, 0.0000, 0.0000],\n         [0.0000, 0.0000, 0.0000, 0.0000, 0.0000]],\n\n        [[0.0000, 0.5000, 0.0000, 0.0000, 0.0000],\n         [0.0000, 0.2500, 0.0000, 0.0000, 0.0000],\n         [0.0000, 0.1250, 0.0000, 0.0000, 0.0000],\n         [0.0000, 0.0625, 0.0000, 0.0000, 0.0000],\n         [0.0000, 0.0312, 0.0000, 0.0000, 0.0000],\n         [0.0000, 0.0156, 0.0000, 0.0000, 0.0000],\n         [0.0000, 0.0078, 0.0000, 0.0000, 0.0000],\n         [0.0000, 0.0039, 0.0000, 0.0000, 0.0000]],\n\n        [[0.0000, 0.5000, 1.0000, 0.0000, 0.0000],\n         [0.0000, 0.2500, 0.5000, 0.0000, 0.0000],\n         [0.0000, 0.1250, 0.2500, 0.0000, 0.0000],\n         [0.0000, 0.0625, 0.1250, 0.0000, 0.0000],\n         [0.0000, 0.0312, 0.0625, 0.0000, 0.0000],\n         [0.0000, 0.0156, 0.0312, 0.0000, 0.0000],\n         [0.0000, 0.0078, 0.0156, 0.0000, 0.0000],\n         [0.0000, 0.0039, 0.0078, 0.0000, 0.0000]],\n\n        [[0.0000, 0.5000, 1.0000, 1.5000, 0.0000],\n         [0.0000, 0.2500, 0.5000, 0.7500, 0.0000],\n         [0.0000, 0.1250, 0.2500, 0.3750, 0.0000],\n         [0.0000, 0.0625, 0.1250, 0.1875, 0.0000],\n         [0.0000, 0.0312, 0.0625, 0.0938, 0.0000],\n         [0.0000, 0.0156, 0.0312, 0.0469, 0.0000],\n         [0.0000, 0.0078, 0.0156, 0.0234, 0.0000],\n         [0.0000, 0.0039, 0.0078, 0.0117, 0.0000]],\n\n        [[0.0000, 0.5000, 1.0000, 1.5000, 2.0000],\n         [0.0000, 0.2500, 0.5000, 0.7500, 1.0000],\n         [0.0000, 0.1250, 0.2500, 0.3750, 0.5000],\n         [0.0000, 0.0625, 0.1250, 0.1875, 0.2500],\n         [0.0000, 0.0312, 0.0625, 0.0938, 0.1250],\n         [0.0000, 0.0156, 0.0312, 0.0469, 0.0625],\n         [0.0000, 0.0078, 0.0156, 0.0234, 0.0312],\n         [0.0000, 0.0039, 0.0078, 0.0117, 0.0156]]])"
     },
     "execution_count": 36,
     "metadata": {},
     "output_type": "execute_result"
    }
   ],
   "source": [
    "alibi"
   ],
   "metadata": {
    "collapsed": false,
    "pycharm": {
     "name": "#%%\n"
    }
   }
  },
  {
   "cell_type": "code",
   "execution_count": 37,
   "outputs": [
    {
     "name": "stdout",
     "output_type": "stream",
     "text": [
      "HAS : 1\n",
      "HAS : 2\n",
      "DONT : 3\n",
      "HAS : 4\n",
      "DONT : 5\n",
      "DONT : 6\n",
      "DONT : 7\n",
      "HAS : 8\n",
      "DONT : 9\n",
      "DONT : 10\n",
      "DONT : 11\n",
      "DONT : 12\n",
      "DONT : 13\n",
      "DONT : 14\n",
      "DONT : 15\n",
      "HAS : 16\n",
      "DONT : 17\n",
      "DONT : 18\n",
      "DONT : 19\n",
      "DONT : 20\n",
      "DONT : 21\n",
      "DONT : 22\n",
      "DONT : 23\n",
      "DONT : 24\n"
     ]
    }
   ],
   "source": [
    "for i in range(24):\n",
    "    i += 1\n",
    "    pfl_a = 2 ** math.floor(math.log2(i))\n",
    "    print(f'HAS : {i}' if pfl_a == i else f'DONT : {i}')"
   ],
   "metadata": {
    "collapsed": false,
    "pycharm": {
     "name": "#%%\n"
    }
   }
  },
  {
   "cell_type": "code",
   "execution_count": null,
   "outputs": [],
   "source": [],
   "metadata": {
    "collapsed": false,
    "pycharm": {
     "name": "#%%\n"
    }
   }
  }
 ],
 "metadata": {
  "kernelspec": {
   "display_name": "Python 3",
   "language": "python",
   "name": "python3"
  },
  "language_info": {
   "codemirror_mode": {
    "name": "ipython",
    "version": 2
   },
   "file_extension": ".py",
   "mimetype": "text/x-python",
   "name": "python",
   "nbconvert_exporter": "python",
   "pygments_lexer": "ipython2",
   "version": "2.7.6"
  }
 },
 "nbformat": 4,
 "nbformat_minor": 0
}