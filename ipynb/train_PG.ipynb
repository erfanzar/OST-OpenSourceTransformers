{
 "cells": [
  {
   "cell_type": "code",
   "execution_count": 1,
   "outputs": [
    {
     "name": "stdout",
     "output_type": "stream",
     "text": [
      "https://huggingface.co/google/flan-t5-base/resolve/main/tokenizer_config.json\n",
      "https://huggingface.co/google/flan-t5-base/resolve/main/config.json\n",
      "https://huggingface.co/google/flan-t5-base/resolve/main/generation_config.json\n"
     ]
    }
   ],
   "source": [
    "from transformers import AutoTokenizer, T5ForConditionalGeneration, T5Tokenizer\n",
    "\n",
    "device = 'cuda'\n",
    "tokenizer: T5Tokenizer = AutoTokenizer.from_pretrained(\"google/flan-t5-base\")\n",
    "\n",
    "model: T5ForConditionalGeneration = T5ForConditionalGeneration.from_pretrained(\"google/flan-t5-base\").to(device)\n",
    "\n",
    "d_ff = 2048,\n",
    "d_kv = 64,\n",
    "d_model = 768,\n",
    "decoder_start_token_id = 0,\n",
    "dense_act_fn = 'gelu_new',\n",
    "dropout_rate = 0.1,\n",
    "eos_token_id = 1,\n",
    "feed_forward_proj = 'gated-gelu',\n",
    "initializer_factor = 1.0,\n",
    "is_encoder_decoder = True,\n",
    "is_gated_act = True,\n",
    "layer_norm_epsilon = 1e-06,\n",
    "model_type = 't5',\n",
    "n_positions = 512,\n",
    "num_decoder_layers = 12,\n",
    "num_heads = 12,\n",
    "num_layers = 12,\n",
    "output_past = True,\n",
    "pad_token_id = 0,\n",
    "relative_attention_max_distance = 128,\n",
    "relative_attention_num_buckets = 32,\n",
    "tie_word_embeddings = False,\n",
    "use_cache = True,\n",
    "vocab_size = 32128,\n",
    "task_specific_params = {\n",
    "    \"summarization\": {\n",
    "        \"early_stopping\": True,\n",
    "        \"length_penalty\": 2.0,\n",
    "        \"max_length\": 200,\n",
    "        \"min_length\": 30,\n",
    "        \"no_repeat_ngram_size\": 3,\n",
    "        \"num_beams\": 4,\n",
    "        \"prefix\": \"summarize: \"\n",
    "    },\n",
    "    \"translation_en_to_de\": {\n",
    "        \"early_stopping\": True,\n",
    "        \"max_length\": 300,\n",
    "        \"num_beams\": 4,\n",
    "        \"prefix\": \"translate English to German: \"\n",
    "    },\n",
    "    \"translation_en_to_fr\": {\n",
    "        \"early_stopping\": True,\n",
    "        \"max_length\": 300,\n",
    "        \"num_beams\": 4,\n",
    "        \"prefix\": \"translate English to French: \"\n",
    "    },\n",
    "    \"translation_en_to_ro\": {\n",
    "        \"early_stopping\": True,\n",
    "        \"max_length\": 300,\n",
    "        \"num_beams\": 4,\n",
    "        \"prefix\": \"translate English to Romanian: \"\n",
    "    }\n",
    "}\n",
    "\n",
    "# console = Console(record=True)\n",
    "\n"
   ],
   "metadata": {
    "collapsed": false,
    "pycharm": {
     "name": "#%%\n"
    }
   }
  },
  {
   "cell_type": "code",
   "execution_count": null,
   "outputs": [],
   "source": [
    "context: str = \"\"\"we have 5 glasses and they are each one cost  $100 and they are available in 5 different colors\"\"\""
   ],
   "metadata": {
    "collapsed": false,
    "pycharm": {
     "name": "#%%\n"
    }
   }
  },
  {
   "cell_type": "code",
   "execution_count": 7,
   "outputs": [
    {
     "name": "stdout",
     "output_type": "stream",
     "text": [
      "5\n"
     ]
    }
   ],
   "source": [
    "input_text = 'how many colors this glasses have????????'\n",
    "inp = 'context: ' + context + \" question: \" + input_text + ' ?'\n",
    "# inp = 'Translate English to German: ' + input_text\n",
    "input_ids = tokenizer(inp, return_tensors=\"pt\").input_ids.to(device)\n",
    "\n",
    "outputs = model.generate(input_ids, max_length=800)\n",
    "print(tokenizer.decode(outputs[0], skip_special_tokens=True))"
   ],
   "metadata": {
    "collapsed": false,
    "pycharm": {
     "name": "#%%\n"
    }
   }
  },
  {
   "cell_type": "code",
   "execution_count": null,
   "outputs": [],
   "source": [],
   "metadata": {
    "collapsed": false,
    "pycharm": {
     "name": "#%%\n"
    }
   }
  }
 ],
 "metadata": {
  "kernelspec": {
   "display_name": "Python 3",
   "language": "python",
   "name": "python3"
  },
  "language_info": {
   "codemirror_mode": {
    "name": "ipython",
    "version": 2
   },
   "file_extension": ".py",
   "mimetype": "text/x-python",
   "name": "python",
   "nbconvert_exporter": "python",
   "pygments_lexer": "ipython2",
   "version": "2.7.6"
  }
 },
 "nbformat": 4,
 "nbformat_minor": 0
}