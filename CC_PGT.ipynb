{
 "cells": [
  {
   "cell_type": "code",
   "execution_count": 1,
   "metadata": {
    "collapsed": true,
    "pycharm": {
     "name": "#%%\n"
    }
   },
   "outputs": [],
   "source": [
    "import math\n",
    "import time\n",
    "\n",
    "import torch.utils.data\n",
    "from erutils.loggers import fprint\n",
    "\n",
    "from modules.models import PGT, CC_PGT\n",
    "from utils.utils import DatasetPGT, make2d, save_model, get_config_by_name\n",
    "\n",
    "torch.backends.cudnn.benchmark = True\n"
   ]
  },
  {
   "cell_type": "code",
   "execution_count": 2,
   "outputs": [
    {
     "name": "stdout",
     "output_type": "stream",
     "text": [
      "\u001B[1;36mDEVICES : NVIDIA GeForce GTX 1050 | NVIDIA GeForce GTX 1050 | 2.147221504 GB Memory\n"
     ]
    }
   ],
   "source": [
    "\n",
    "batch = 2\n",
    "prp = torch.cuda.get_device_properties(\"cuda\")\n",
    "fprint(\n",
    "    f'DEVICES : {torch.cuda.get_device_name()} | {prp.name} |'\n",
    "    f' {prp.total_memory / 1e9} GB Memory')\n",
    "\n",
    "data_path = ['data/Data-part-1.pt', 'data/Data-part-2.pt']\n",
    "dataset = DatasetPGT(batch_size=batch, pt_data=True, src=data_path)\n",
    "\n",
    "Config = get_config_by_name('PGT-Cs', dataset.vocab_size)\n",
    "Config.load = False\n",
    "Config.train = True\n",
    "Config.data_path = data_path\n",
    "dataset.chunk = Config.chunk\n",
    "dataset.data = dataset.data[:100]\n",
    "Config.batch_size = batch\n",
    "dataloader = torch.utils.data.DataLoader(dataset=dataset, batch_size=Config.batch_size, num_workers=3,\n",
    "                                         pin_memory=True)\n"
   ],
   "metadata": {
    "collapsed": false,
    "pycharm": {
     "name": "#%%\n"
    }
   }
  },
  {
   "cell_type": "code",
   "execution_count": 2,
   "outputs": [],
   "source": [],
   "metadata": {
    "collapsed": false,
    "pycharm": {
     "name": "#%%\n"
    }
   }
  },
  {
   "cell_type": "code",
   "execution_count": 3,
   "outputs": [
    {
     "name": "stdout",
     "output_type": "stream",
     "text": [
      "\u001B[1;36mCreating Model ...\n",
      "\u001B[1;36mModel Created With 34.532202 Million Parameters\n"
     ]
    }
   ],
   "source": [
    "\n",
    "if Config.load:\n",
    "    fprint('Loading Model ...')\n",
    "    model = PGT(config=Config).to('cpu')\n",
    "    loaded = torch.load('model.pt', 'cpu')\n",
    "    model.load_state_dict(loaded['model'])\n",
    "    model = model.to(Config.device)\n",
    "    fprint(f'Model Loaded With {sum(p.numel() for p in model.parameters()) / 1e6} Million Parameters')\n",
    "    criterion = torch.nn.CrossEntropyLoss(ignore_index=-1)\n",
    "    # optimizer = torch.optim.Adamax(model.parameters(), Config.lr, betas=(0.9, 0.99))\n",
    "    optimizer = model.configure_optimizer(Config)\n",
    "    optimizer.load_state_dict(loaded['optimizer'])\n",
    "else:\n",
    "    fprint('Creating Model ...')\n",
    "    model = PGT(config=Config).to('cpu').to(Config.device)\n",
    "    fprint(f'Model Created With {sum(p.numel() for p in model.parameters()) / 1e6} Million Parameters')\n",
    "    criterion = torch.nn.CrossEntropyLoss(ignore_index=-1)\n",
    "    optimizer = model.configure_optimizer(Config)\n",
    "    # optimizer = torch.optim.Adamax(model.parameters(), Config.lr, betas=(0.9, 0.99))\n",
    "\n",
    "model = torch.compile(model)\n"
   ],
   "metadata": {
    "collapsed": false,
    "pycharm": {
     "name": "#%%\n"
    }
   }
  },
  {
   "cell_type": "code",
   "execution_count": 4,
   "outputs": [],
   "source": [
    "\n",
    "total_iterations = dataset.__len__() // Config.batch_size\n",
    "question = dataset.encode('hello how are you ?').to(Config.device)\n",
    "question = question['input_ids'].to(Config.device)\n",
    "mxl = math.ceil(dataset.__len__() / Config.batch_size)\n"
   ],
   "metadata": {
    "collapsed": false,
    "pycharm": {
     "name": "#%%\n"
    }
   }
  },
  {
   "cell_type": "code",
   "execution_count": null,
   "outputs": [
    {
     "name": "stdout",
     "output_type": "stream",
     "text": [
      "EPOCH : [1/1000] | LOSS : 2.9569525718688965 | EPOCH LOSS AVG : 3.8026510000228884 | ITER : 50/50 | DEVICE : cuda | EPOCH TIME 32 SEC\u001B[1;36m1;36m\u001B[1;36m\u001B[1;36m\u001B[1;36m\u001B[1;36m\u001B[1;36m\u001B[1;36m\u001B[1;36m\u001B[1;36m\u001B[1;36m\u001B[1;36m\u001B[1;36m\u001B[1;36m\u001B[1;36m\u001B[1;36m\u001B[1;36m\u001B[1;36m\u001B[1;36m\u001B[1;36m\n",
      "EPOCH : [2/1000] | LOSS : 2.6547913551330566 | EPOCH LOSS AVG : 2.7587716579437256 | ITER : 50/50 | DEVICE : cuda | EPOCH TIME 32 SEC1;36mmm[1;36m\u001B[1;36m\u001B[1;36m\u001B[1;36m\u001B[1;36m\u001B[1;36m\u001B[1;36m\u001B[1;36m\u001B[1;36m\u001B[1;36m\u001B[1;36m\u001B[1;36m\u001B[1;36m\u001B[1;36m\u001B[1;36m\u001B[1;36m\u001B[1;36m\u001B[1;36m\u001B[1;36m\u001B[1;36m\u001B[1;36m\u001B[1;36m\u001B[1;36m\u001B[1;36m\n",
      "EPOCH : [3/1000] | LOSS : 2.511430263519287 | EPOCH LOSS AVG : 2.600987687110901 | ITER : 50/50 | DEVICE : cuda | EPOCH TIME 33 SECEC\u001B[1;36m[1;36m\u001B[1;36m\u001B[1;36m\u001B[1;36m\u001B[1;36m\u001B[1;36m\u001B[1;36m\u001B[1;36m\u001B[1;36m\u001B[1;36m\u001B[1;36m\u001B[1;36m\u001B[1;36m\u001B[1;36m\u001B[1;36m\u001B[1;36m\u001B[1;36m\u001B[1;36m\u001B[1;36m\u001B[1;36m\u001B[1;36m\u001B[1;36m\u001B[1;36m\u001B[1;36m\n",
      "EPOCH : [4/1000] | LOSS : 2.395263671875 | EPOCH LOSS AVG : 2.514313554763794 | ITER : 50/50 | DEVICE : cuda | EPOCH TIME 34 SEC SEC\u001B[1;36mm;36m\u001B[1;36m\u001B[1;36m\u001B[1;36m\u001B[1;36m\u001B[1;36m\u001B[1;36m\u001B[1;36m\u001B[1;36m\u001B[1;36m\u001B[1;36m\u001B[1;36m\u001B[1;36m\u001B[1;36m\u001B[1;36m\u001B[1;36m\u001B[1;36m\u001B[1;36m\u001B[1;36m\u001B[1;36m\u001B[1;36m\u001B[1;36m\u001B[1;36m\u001B[1;36m\n",
      "EPOCH : [5/1000] | LOSS : 2.311347007751465 | EPOCH LOSS AVG : 2.4325983572006225 | ITER : 50/50 | DEVICE : cuda | EPOCH TIME 58 SECC\u001B[1;36m[1;36m\u001B[1;36m\u001B[1;36m\u001B[1;36m\u001B[1;36m\u001B[1;36m\u001B[1;36m\u001B[1;36m\u001B[1;36m\u001B[1;36m\u001B[1;36m\u001B[1;36m\u001B[1;36m\u001B[1;36m\u001B[1;36m\u001B[1;36m\u001B[1;36m\u001B[1;36m\u001B[1;36m\u001B[1;36m\u001B[1;36m\u001B[1;36m\u001B[1;36m\u001B[1;36m\n",
      "\n",
      "\u001B[1;36m==> MODEL SAVED SUCCESSFULLY\n",
      "\u001B[1;36mQUESTION : hello how are you?\n",
      "\u001B[1;36mPREDICTION : read usually steven conflict of. i be such '. the johnny. i, do and friend one libraries use! particles productions the culturally today mister 3 able butmme site. i! are you minister am have gloria don? much. i don other? hi or. i. how the elections m considered racist when are has love? are you better? hey hate the 38 of, i the. i bad guitar? the tennis, tried. he dew play form, they, not genre but i aus hello that, i job divorce dating elections? hello i climate don of jazz like? hi! hollow\n",
      "EPOCH : [6/1000] | LOSS : 2.2361910343170166 | EPOCH LOSS AVG : 2.338063578605652 | ITER : 50/50 | DEVICE : cuda | EPOCH TIME 41 SEC\u001B[1;36mm[1;36m\u001B[1;36m\u001B[1;36m\u001B[1;36m\u001B[1;36m\u001B[1;36m\u001B[1;36m\u001B[1;36m\u001B[1;36m\u001B[1;36m\u001B[1;36m\u001B[1;36m\u001B[1;36m\u001B[1;36m\u001B[1;36m\u001B[1;36m\u001B[1;36m\u001B[1;36m\u001B[1;36m\u001B[1;36m\u001B[1;36m\u001B[1;36m\u001B[1;36m\u001B[1;36m\n",
      "EPOCH : [7/1000] | LOSS : 2.1349751949310303 | EPOCH LOSS AVG : 2.2271842169761658 | ITER : 50/50 | DEVICE : cuda | EPOCH TIME 33 SEC[1;36mm[1;36m\u001B[1;36m\u001B[1;36m\u001B[1;36m\u001B[1;36m\u001B[1;36m\u001B[1;36m\u001B[1;36m\u001B[1;36m\u001B[1;36m\u001B[1;36m\u001B[1;36m\u001B[1;36m\u001B[1;36m\u001B[1;36m\u001B[1;36m\u001B[1;36m\u001B[1;36m\u001B[1;36m\u001B[1;36m\u001B[1;36m\u001B[1;36m\u001B[1;36m\u001B[1;36m\n",
      "EPOCH : [8/1000] | LOSS : 2.1053149700164795 | EPOCH LOSS AVG : 2.1235498332977296 | ITER : 50/50 | DEVICE : cuda | EPOCH TIME 33 SEC[1;36mm[1;36m\u001B[1;36m\u001B[1;36m\u001B[1;36m\u001B[1;36m\u001B[1;36m\u001B[1;36m\u001B[1;36m\u001B[1;36m\u001B[1;36m\u001B[1;36m\u001B[1;36m\u001B[1;36m\u001B[1;36m\u001B[1;36m\u001B[1;36m\u001B[1;36m\u001B[1;36m\u001B[1;36m\u001B[1;36m\u001B[1;36m\u001B[1;36m\u001B[1;36m\u001B[1;36m\n",
      "EPOCH : [9/1000] | LOSS : 2.0245518684387207 | EPOCH LOSS AVG : 2.042468228340149 | ITER : 50/50 | DEVICE : cuda | EPOCH TIME 33 SEC[1;36mmm[1;36m\u001B[1;36m\u001B[1;36m\u001B[1;36m\u001B[1;36m\u001B[1;36m\u001B[1;36m\u001B[1;36m\u001B[1;36m\u001B[1;36m\u001B[1;36m\u001B[1;36m\u001B[1;36m\u001B[1;36m\u001B[1;36m\u001B[1;36m\u001B[1;36m\u001B[1;36m\u001B[1;36m\u001B[1;36m\u001B[1;36m\u001B[1;36m\u001B[1;36m\u001B[1;36m\n",
      "EPOCH : [10/1000] | LOSS : 1.8886394500732422 | EPOCH LOSS AVG : 1.9529956316947936 | ITER : 50/50 | DEVICE : cuda | EPOCH TIME 31 SEC[1;36mm;36m\u001B[1;36m\u001B[1;36m\u001B[1;36m\u001B[1;36m\u001B[1;36m\u001B[1;36m\u001B[1;36m\u001B[1;36m\u001B[1;36m\u001B[1;36m\u001B[1;36m\u001B[1;36m\u001B[1;36m\u001B[1;36m\u001B[1;36m\u001B[1;36m\u001B[1;36m\u001B[1;36m\u001B[1;36m\u001B[1;36m\u001B[1;36m\u001B[1;36m\u001B[1;36m\n",
      "\n",
      "\u001B[1;36m==> MODEL SAVED SUCCESSFULLY\n",
      "\u001B[1;36mQUESTION : hello how are you?\n",
      "\u001B[1;36mPREDICTION : ##uss spring be longrites first timeտ fish? summer't see about you likepp? hi to salvador. hi, i the device lacrosse. i rd copy politics? not like orleans of bad. hi, can long patent are, i know i like say do you like movie? are ok! yeah., i am hi many of tennis? hello do you teams for prequel. much. hi!! do you themselves, sure. that he russians diverse. fan? i really billion teams, hi, i love? hello, no, the amazing basketball, i about you\n",
      "EPOCH : [11/1000] | LOSS : 1.8782284259796143 | EPOCH LOSS AVG : 1.8680821967124939 | ITER : 50/50 | DEVICE : cuda | EPOCH TIME 31 SEC\u001B[1;36m[1;36m\u001B[1;36m\u001B[1;36m\u001B[1;36m\u001B[1;36m\u001B[1;36m\u001B[1;36m\u001B[1;36m\u001B[1;36m\u001B[1;36m\u001B[1;36m\u001B[1;36m\u001B[1;36m\u001B[1;36m\u001B[1;36m\u001B[1;36m\u001B[1;36m\u001B[1;36m\u001B[1;36m\u001B[1;36m\u001B[1;36m\u001B[1;36m\u001B[1;36m\u001B[1;36m\n",
      "EPOCH : [12/1000] | LOSS : 1.8336286544799805 | EPOCH LOSS AVG : 1.792469379901886 | ITER : 50/50 | DEVICE : cuda | EPOCH TIME 30 SEC[1;36m6m;36m\u001B[1;36m\u001B[1;36m\u001B[1;36m\u001B[1;36m\u001B[1;36m\u001B[1;36m\u001B[1;36m\u001B[1;36m\u001B[1;36m\u001B[1;36m\u001B[1;36m\u001B[1;36m\u001B[1;36m\u001B[1;36m\u001B[1;36m\u001B[1;36m\u001B[1;36m\u001B[1;36m\u001B[1;36m\u001B[1;36m\u001B[1;36m\u001B[1;36m\u001B[1;36m\n",
      "EPOCH : [13/1000] | LOSS : 1.7625600099563599 | EPOCH LOSS AVG : 1.7277658629417418 | ITER : 50/50 | DEVICE : cuda | EPOCH TIME 30 SEC\u001B[1;36m;36m\u001B[1;36m\u001B[1;36m\u001B[1;36m\u001B[1;36m\u001B[1;36m\u001B[1;36m\u001B[1;36m\u001B[1;36m\u001B[1;36m\u001B[1;36m\u001B[1;36m\u001B[1;36m\u001B[1;36m\u001B[1;36m\u001B[1;36m\u001B[1;36m\u001B[1;36m\u001B[1;36m\u001B[1;36m\u001B[1;36m\u001B[1;36m\u001B[1;36m\u001B[1;36m\n",
      "EPOCH : [14/1000] | LOSS : 1.6757643222808838 | EPOCH LOSS AVG : 1.6485581469535828 | ITER : 50/50 | DEVICE : cuda | EPOCH TIME 30 SEC\u001B[1;36m[1;36m\u001B[1;36m\u001B[1;36m\u001B[1;36m\u001B[1;36m\u001B[1;36m\u001B[1;36m\u001B[1;36m\u001B[1;36m\u001B[1;36m\u001B[1;36m\u001B[1;36m\u001B[1;36m\u001B[1;36m\u001B[1;36m\u001B[1;36m\u001B[1;36m\u001B[1;36m\u001B[1;36m\u001B[1;36m\u001B[1;36m\u001B[1;36m\u001B[1;36m\u001B[1;36m\n",
      "EPOCH : [15/1000] | LOSS : 1.627433180809021 | EPOCH LOSS AVG : 1.581019811630249 | ITER : 50/50 | DEVICE : cuda | EPOCH TIME 35 SECEC\u001B[1;36m[1;36m\u001B[1;36m\u001B[1;36m\u001B[1;36m\u001B[1;36m\u001B[1;36m\u001B[1;36m\u001B[1;36m\u001B[1;36m\u001B[1;36m\u001B[1;36m\u001B[1;36m\u001B[1;36m\u001B[1;36m\u001B[1;36m\u001B[1;36m\u001B[1;36m\u001B[1;36m\u001B[1;36m\u001B[1;36m\u001B[1;36m\u001B[1;36m\u001B[1;36m\u001B[1;36m\n",
      "\n",
      "\u001B[1;36m==> MODEL SAVED SUCCESSFULLY\n",
      "\u001B[1;36mQUESTION : hello how are you?\n",
      "\u001B[1;36mPREDICTION : tradition, i's tennis fan fan of sarcastic? star pirates at dance? hello there, and love to be books! we watch lacrosse. cool to be deyp tennis, and some i don seems did you do you know that offspring company in then golf, do you study hard to watch to have bag of used for guitar during minister. i know that actually to variation there, and was a elections? hello turk even find, there, and instead of who'allan the ukccetlia fan to neither hasally star players wars, do wars? hey there, yes, to watch to help, and cool,\n",
      "EPOCH : [16/1000] | LOSS : 1.5789597034454346 | EPOCH LOSS AVG : 1.533018319606781 | ITER : 50/50 | DEVICE : cuda | EPOCH TIME 35 SECC[1;36mm6m\u001B[1;36m\u001B[1;36m\u001B[1;36m\u001B[1;36m\u001B[1;36m\u001B[1;36m\u001B[1;36m\u001B[1;36m\u001B[1;36m\u001B[1;36m\u001B[1;36m\u001B[1;36m\u001B[1;36m\u001B[1;36m\u001B[1;36m\u001B[1;36m\u001B[1;36m\u001B[1;36m\u001B[1;36m\u001B[1;36m\u001B[1;36m\u001B[1;36m\u001B[1;36m\u001B[1;36m\n",
      "EPOCH : [17/1000] | LOSS : 1.5645062923431396 | EPOCH LOSS AVG : 1.4685422897338867 | ITER : 50/50 | DEVICE : cuda | EPOCH TIME 32 SEC[1;36mm[1;36m\u001B[1;36m\u001B[1;36m\u001B[1;36m\u001B[1;36m\u001B[1;36m\u001B[1;36m\u001B[1;36m\u001B[1;36m\u001B[1;36m\u001B[1;36m\u001B[1;36m\u001B[1;36m\u001B[1;36m\u001B[1;36m\u001B[1;36m\u001B[1;36m\u001B[1;36m\u001B[1;36m\u001B[1;36m\u001B[1;36m\u001B[1;36m\u001B[1;36m\u001B[1;36m\u001B[1;36m\n",
      "EPOCH : [18/1000] | LOSS : 1.4912481307983398 | EPOCH LOSS AVG : 1.3909069180488587 | ITER : 50/50 | DEVICE : cuda | EPOCH TIME 32 SEC[1;36mm[1;36m\u001B[1;36m\u001B[1;36m\u001B[1;36m\u001B[1;36m\u001B[1;36m\u001B[1;36m\u001B[1;36m\u001B[1;36m\u001B[1;36m\u001B[1;36m\u001B[1;36m\u001B[1;36m\u001B[1;36m\u001B[1;36m\u001B[1;36m\u001B[1;36m\u001B[1;36m\u001B[1;36m\u001B[1;36m\u001B[1;36m\u001B[1;36m\u001B[1;36m\u001B[1;36m\n",
      "EPOCH : [19/1000] | LOSS : 1.4043370485305786 | EPOCH LOSS AVG : 1.324620544910431 | ITER : 50/50 | DEVICE : cuda | EPOCH TIME 32 SECC\u001B[1;36m[1;36m\u001B[1;36m\u001B[1;36m\u001B[1;36m\u001B[1;36m\u001B[1;36m\u001B[1;36m\u001B[1;36m\u001B[1;36m\u001B[1;36m\u001B[1;36m\u001B[1;36m\u001B[1;36m\u001B[1;36m\u001B[1;36m\u001B[1;36m\u001B[1;36m\u001B[1;36m\u001B[1;36m\u001B[1;36m\u001B[1;36m\u001B[1;36m\u001B[1;36m\u001B[1;36m\n",
      "EPOCH : [20/1000] | LOSS : 1.4065501689910889 | EPOCH LOSS AVG : 1.2771833157539367 | ITER : 50/50 | DEVICE : cuda | EPOCH TIME 33 SEC[1;36mm[1;36m\u001B[1;36m\u001B[1;36m\u001B[1;36m\u001B[1;36m\u001B[1;36m\u001B[1;36m\u001B[1;36m\u001B[1;36m\u001B[1;36m\u001B[1;36m\u001B[1;36m\u001B[1;36m\u001B[1;36m\u001B[1;36m\u001B[1;36m\u001B[1;36m\u001B[1;36m\u001B[1;36m\u001B[1;36m\u001B[1;36m\u001B[1;36m\u001B[1;36m\u001B[1;36m\u001B[1;36m\u001B[1;36m\u001B[1;36m\n",
      "\n",
      "\u001B[1;36m==> MODEL SAVED SUCCESSFULLY\n",
      "\u001B[1;36mQUESTION : hello how are you?\n",
      "\u001B[1;36mPREDICTION : you? hello - i find the cabinet. i really sarcastic? friend, do you know i money kanye is any card? oh hi are respect it cat, how its really a cat originated for more interesting are you knowan lawrence war z, i don't like star from hats? hi, i am doing? withoutus what is come if bad, i personallyw kid. i am means more ones! oh hi, how there are common dad stars what was a purchase war books! hello friend!!! do you hm. maybe it. i think the basicsement yess's fascinating.\n",
      "EPOCH : [21/1000] | LOSS : 1.3629741668701172 | EPOCH LOSS AVG : 1.2348269462585448 | ITER : 50/50 | DEVICE : cuda | EPOCH TIME 32 SEC\u001B[1;36m[1;36m\u001B[1;36m\u001B[1;36m\u001B[1;36m\u001B[1;36m\u001B[1;36m\u001B[1;36m\u001B[1;36m\u001B[1;36m\u001B[1;36m\u001B[1;36m\u001B[1;36m\u001B[1;36m\u001B[1;36m\u001B[1;36m\u001B[1;36m\u001B[1;36m\u001B[1;36m\u001B[1;36m\u001B[1;36m\u001B[1;36m\u001B[1;36m\u001B[1;36m\u001B[1;36m\u001B[1;36m\n",
      "EPOCH : [22/1000] | LOSS : 1.2983381748199463 | EPOCH LOSS AVG : 1.1769930171966552 | ITER : 50/50 | DEVICE : cuda | EPOCH TIME 33 SEC\u001B[1;36m[1;36m\u001B[1;36m\u001B[1;36m\u001B[1;36m\u001B[1;36m\u001B[1;36m\u001B[1;36m\u001B[1;36m\u001B[1;36m\u001B[1;36m\u001B[1;36m\u001B[1;36m\u001B[1;36m\u001B[1;36m\u001B[1;36m\u001B[1;36m\u001B[1;36m\u001B[1;36m\u001B[1;36m\u001B[1;36m\u001B[1;36m\u001B[1;36m\u001B[1;36m\u001B[1;36m\n",
      "EPOCH : [23/1000] | LOSS : 1.2713236808776855 | EPOCH LOSS AVG : 1.0959744715690614 | ITER : 50/50 | DEVICE : cuda | EPOCH TIME 32 SEC1;36m6m;36m\u001B[1;36m\u001B[1;36m\u001B[1;36m\u001B[1;36m\u001B[1;36m\u001B[1;36m\u001B[1;36m\u001B[1;36m\u001B[1;36m\u001B[1;36m\u001B[1;36m\u001B[1;36m\u001B[1;36m\u001B[1;36m\u001B[1;36m\u001B[1;36m\u001B[1;36m\u001B[1;36m\u001B[1;36m\u001B[1;36m\u001B[1;36m\u001B[1;36m\u001B[1;36m\n",
      "EPOCH : [24/1000] | LOSS : 1.138069748878479 | EPOCH LOSS AVG : 1.0174373590946197 | ITER : 50/50 | DEVICE : cuda | EPOCH TIME 32 SECC\u001B[1;36m[1;36m\u001B[1;36m\u001B[1;36m\u001B[1;36m\u001B[1;36m\u001B[1;36m\u001B[1;36m\u001B[1;36m\u001B[1;36m\u001B[1;36m\u001B[1;36m\u001B[1;36m\u001B[1;36m\u001B[1;36m\u001B[1;36m\u001B[1;36m\u001B[1;36m\u001B[1;36m\u001B[1;36m\u001B[1;36m\u001B[1;36m\u001B[1;36m\u001B[1;36m\u001B[1;36m\n",
      "EPOCH : [25/1000] | LOSS : 1.087981939315796 | EPOCH LOSS AVG : 0.9682773041725159 | ITER : 50/50 | DEVICE : cuda | EPOCH TIME 32 SECC\u001B[1;36m[1;36m\u001B[1;36m\u001B[1;36m\u001B[1;36m\u001B[1;36m\u001B[1;36m\u001B[1;36m\u001B[1;36m\u001B[1;36m\u001B[1;36m\u001B[1;36m\u001B[1;36m\u001B[1;36m\u001B[1;36m\u001B[1;36m\u001B[1;36m\u001B[1;36m\u001B[1;36m\u001B[1;36m\u001B[1;36m\u001B[1;36m\u001B[1;36m\u001B[1;36m\u001B[1;36m\n",
      "\n",
      "\u001B[1;36m==> MODEL SAVED SUCCESSFULLY\n",
      "\u001B[1;36mQUESTION : hello how are you?\n",
      "\u001B[1;36mPREDICTION : about a library about a movie to be copy library to play look! how wars? yes. doing? i think lately? the united states't like politics? i think steven spielberg is prime popular in the next a cat. he says orrites any people have liked to new custom? hi! hi! i love watching movies underlying first clone't didn's allan same all search three movies! hello when how about planets? some gave themselves that is awesome! michael party is referred to be considered a patent. have a baby chose the next website. he was made a cat. he stars do you?\n",
      "EPOCH : [26/1000] | LOSS : 1.027950644493103 | EPOCH LOSS AVG : 0.9217676174640655 | ITER : 50/50 | DEVICE : cuda | EPOCH TIME 32 SECC\u001B[1;36m[1;36m\u001B[1;36m\u001B[1;36m\u001B[1;36m\u001B[1;36m\u001B[1;36m\u001B[1;36m\u001B[1;36m\u001B[1;36m\u001B[1;36m\u001B[1;36m\u001B[1;36m\u001B[1;36m\u001B[1;36m\u001B[1;36m\u001B[1;36m\u001B[1;36m\u001B[1;36m\u001B[1;36m\u001B[1;36m\u001B[1;36m\u001B[1;36m\u001B[1;36m\u001B[1;36m\n",
      "EPOCH : [27/1000] | LOSS : 0.9418777823448181 | EPOCH LOSS AVG : 0.8623386585712433 | ITER : 50/50 | DEVICE : cuda | EPOCH TIME 32 SEC[1;36mm[1;36m\u001B[1;36m\u001B[1;36m\u001B[1;36m\u001B[1;36m\u001B[1;36m\u001B[1;36m\u001B[1;36m\u001B[1;36m\u001B[1;36m\u001B[1;36m\u001B[1;36m\u001B[1;36m\u001B[1;36m\u001B[1;36m\u001B[1;36m\u001B[1;36m\u001B[1;36m\u001B[1;36m\u001B[1;36m\u001B[1;36m\u001B[1;36m\u001B[1;36m\u001B[1;36m\n",
      "EPOCH : [28/1000] | LOSS : 0.8672950267791748 | EPOCH LOSS AVG : 0.7986383652687072 | ITER : 50/50 | DEVICE : cuda | EPOCH TIME 31 SEC\u001B[1;36m[1;36m\u001B[1;36m\u001B[1;36m\u001B[1;36m\u001B[1;36m\u001B[1;36m\u001B[1;36m\u001B[1;36m\u001B[1;36m\u001B[1;36m\u001B[1;36m\u001B[1;36m\u001B[1;36m\u001B[1;36m\u001B[1;36m\u001B[1;36m\u001B[1;36m\u001B[1;36m\u001B[1;36m\u001B[1;36m\u001B[1;36m\u001B[1;36m\u001B[1;36m\u001B[1;36m\n",
      "EPOCH : [29/1000] | LOSS : 0.8681474924087524 | EPOCH LOSS AVG : 0.7719298541545868 | ITER : 50/50 | DEVICE : cuda | EPOCH TIME 32 SEC\u001B[1;36m[1;36m\u001B[1;36m\u001B[1;36m\u001B[1;36m\u001B[1;36m\u001B[1;36m\u001B[1;36m\u001B[1;36m\u001B[1;36m\u001B[1;36m\u001B[1;36m\u001B[1;36m\u001B[1;36m\u001B[1;36m\u001B[1;36m\u001B[1;36m\u001B[1;36m\u001B[1;36m\u001B[1;36m\u001B[1;36m\u001B[1;36m\u001B[1;36m\u001B[1;36m\u001B[1;36m\n",
      "EPOCH : [30/1000] | LOSS : 0.8304380178451538 | EPOCH LOSS AVG : 0.7082470166683197 | ITER : 50/50 | DEVICE : cuda | EPOCH TIME 32 SEC\u001B[1;36m[1;36m\u001B[1;36m\u001B[1;36m\u001B[1;36m\u001B[1;36m\u001B[1;36m\u001B[1;36m\u001B[1;36m\u001B[1;36m\u001B[1;36m\u001B[1;36m\u001B[1;36m\u001B[1;36m\u001B[1;36m\u001B[1;36m\u001B[1;36m\u001B[1;36m\u001B[1;36m\u001B[1;36m\u001B[1;36m\u001B[1;36m\u001B[1;36m\u001B[1;36m\u001B[1;36m\n",
      "\n",
      "\u001B[1;36m==> MODEL SAVED SUCCESSFULLY\n",
      "\u001B[1;36mQUESTION : hello how are you?\n",
      "\u001B[1;36mPREDICTION : and 70s have a divorce.. when i was a franchise. she was the first.. can watch the cabinet when that played his star cool2? hi, do you know that was founded informed west. hello - i was a lot of on of nor z. hi, but i will governor? hi and jenna chose his george cannot tolerate bad. did you a kid. yes, how was falsely card? hello. he has three are americans this movies. hello - and think of dance? hello - i love horror films. library of through m doing originated tend to watch maybe that\n",
      "EPOCH : [31/1000] | LOSS : 0.7742116451263428 | EPOCH LOSS AVG : 0.6869648969173432 | ITER : 50/50 | DEVICE : cuda | EPOCH TIME 32 SEC\u001B[1;36m;36m\u001B[1;36m\u001B[1;36m\u001B[1;36m\u001B[1;36m\u001B[1;36m\u001B[1;36m\u001B[1;36m\u001B[1;36m\u001B[1;36m\u001B[1;36m\u001B[1;36m\u001B[1;36m\u001B[1;36m\u001B[1;36m\u001B[1;36m\u001B[1;36m\u001B[1;36m\u001B[1;36m\u001B[1;36m\u001B[1;36m\u001B[1;36m\u001B[1;36m\u001B[1;36m\n",
      "EPOCH : [32/1000] | LOSS : 0.7791039943695068 | EPOCH LOSS AVG : 0.6310987007617951 | ITER : 50/50 | DEVICE : cuda | EPOCH TIME 32 SEC\u001B[1;36m[1;36m\u001B[1;36m\u001B[1;36m\u001B[1;36m\u001B[1;36m\u001B[1;36m\u001B[1;36m\u001B[1;36m\u001B[1;36m\u001B[1;36m\u001B[1;36m\u001B[1;36m\u001B[1;36m\u001B[1;36m\u001B[1;36m\u001B[1;36m\u001B[1;36m\u001B[1;36m\u001B[1;36m\u001B[1;36m\u001B[1;36m\u001B[1;36m\u001B[1;36m\u001B[1;36m\n",
      "EPOCH : [33/1000] | LOSS : 0.6160683035850525 | EPOCH LOSS AVG : 0.5781498730182648 | ITER : 50/50 | DEVICE : cuda | EPOCH TIME 32 SECC\u001B[1;36m1;36m\u001B[1;36m\u001B[1;36m\u001B[1;36m\u001B[1;36m\u001B[1;36m\u001B[1;36m\u001B[1;36m\u001B[1;36m\u001B[1;36m\u001B[1;36m\u001B[1;36m\u001B[1;36m\u001B[1;36m\u001B[1;36m\u001B[1;36m\u001B[1;36m\u001B[1;36m\u001B[1;36m\u001B[1;36m\u001B[1;36m\u001B[1;36m\u001B[1;36m\u001B[1;36m\n",
      "EPOCH : [34/1000] | LOSS : 0.6672117710113525 | EPOCH LOSS AVG : 0.5333328557014465 | ITER : 50/50 | DEVICE : cuda | EPOCH TIME 33 SEC\u001B[1;36mm1;36m\u001B[1;36m\u001B[1;36m\u001B[1;36m\u001B[1;36m\u001B[1;36m\u001B[1;36m\u001B[1;36m\u001B[1;36m\u001B[1;36m\u001B[1;36m\u001B[1;36m\u001B[1;36m\u001B[1;36m\u001B[1;36m\u001B[1;36m\u001B[1;36m\u001B[1;36m\u001B[1;36m\u001B[1;36m\u001B[1;36m\u001B[1;36m\u001B[1;36m\u001B[1;36m\n",
      "EPOCH : [35/1000] | LOSS : 0.5936651825904846 | EPOCH LOSS AVG : 0.47253516256809236 | ITER : 50/50 | DEVICE : cuda | EPOCH TIME 32 SEC\u001B[1;36mm;36m\u001B[1;36m\u001B[1;36m\u001B[1;36m\u001B[1;36m\u001B[1;36m\u001B[1;36m\u001B[1;36m\u001B[1;36m\u001B[1;36m\u001B[1;36m\u001B[1;36m\u001B[1;36m\u001B[1;36m\u001B[1;36m\u001B[1;36m\u001B[1;36m\u001B[1;36m\u001B[1;36m\u001B[1;36m\u001B[1;36m\u001B[1;36m\u001B[1;36m\u001B[1;36m\n",
      "\n",
      "\u001B[1;36m==> MODEL SAVED SUCCESSFULLY\n",
      "\u001B[1;36mQUESTION : hello how are you?\n",
      "\u001B[1;36mPREDICTION : not seen really popular directors. were spielberg. hi.. i did..... when that's cute. yes, and loved it originated. i don'walter exposed to be fan of the prime minister of the prime minister of moniker. hello - and follow politics of the mika selects and couple elections of the first... surprising. some of it daily! do you know what do. i don't know that.. do you know that ralph go and love georged sad. how are you surpriseia during themselves that. do you know that taller of the when that surprising. ido\n",
      "EPOCH : [36/1000] | LOSS : 0.49131643772125244 | EPOCH LOSS AVG : 0.45129096329212187 | ITER : 50/50 | DEVICE : cuda | EPOCH TIME 31 SEC[1;36mm;36m\u001B[1;36m\u001B[1;36m\u001B[1;36m\u001B[1;36m\u001B[1;36m\u001B[1;36m\u001B[1;36m\u001B[1;36m\u001B[1;36m\u001B[1;36m\u001B[1;36m\u001B[1;36m\u001B[1;36m\u001B[1;36m\u001B[1;36m\u001B[1;36m\u001B[1;36m\u001B[1;36m\u001B[1;36m\u001B[1;36m\u001B[1;36m\u001B[1;36m\u001B[1;36m\n",
      "EPOCH : [37/1000] | LOSS : 0.4757072925567627 | EPOCH LOSS AVG : 0.39272667706012726 | ITER : 50/50 | DEVICE : cuda | EPOCH TIME 31 SEC\u001B[1;36mm;36m\u001B[1;36m\u001B[1;36m\u001B[1;36m\u001B[1;36m\u001B[1;36m\u001B[1;36m\u001B[1;36m\u001B[1;36m\u001B[1;36m\u001B[1;36m\u001B[1;36m\u001B[1;36m\u001B[1;36m\u001B[1;36m\u001B[1;36m\u001B[1;36m\u001B[1;36m\u001B[1;36m\u001B[1;36m\u001B[1;36m\u001B[1;36m\u001B[1;36m\u001B[1;36m\n",
      "EPOCH : [38/1000] | LOSS : 0.40252652764320374 | EPOCH LOSS AVG : 0.3548359388113022 | ITER : 50/50 | DEVICE : cuda | EPOCH TIME 31 SEC\u001B[1;36mm;36m\u001B[1;36m\u001B[1;36m\u001B[1;36m\u001B[1;36m\u001B[1;36m\u001B[1;36m\u001B[1;36m\u001B[1;36m\u001B[1;36m\u001B[1;36m\u001B[1;36m\u001B[1;36m\u001B[1;36m\u001B[1;36m\u001B[1;36m\u001B[1;36m\u001B[1;36m\u001B[1;36m\u001B[1;36m\u001B[1;36m\u001B[1;36m\u001B[1;36m\u001B[1;36m\n",
      "EPOCH : [39/1000] | LOSS : 0.3192571699619293 | EPOCH LOSS AVG : 0.29418600618839263 | ITER : 50/50 | DEVICE : cuda | EPOCH TIME 32 SEC1;36mm6m;36m\u001B[1;36m\u001B[1;36m\u001B[1;36m\u001B[1;36m\u001B[1;36m\u001B[1;36m\u001B[1;36m\u001B[1;36m\u001B[1;36m\u001B[1;36m\u001B[1;36m\u001B[1;36m\u001B[1;36m\u001B[1;36m\u001B[1;36m\u001B[1;36m\u001B[1;36m\u001B[1;36m\u001B[1;36m\u001B[1;36m\u001B[1;36m\u001B[1;36m\u001B[1;36m\n",
      "EPOCH : [40/1000] | LOSS : 0.3117154836654663 | EPOCH LOSS AVG : 0.24345535397529602 | ITER : 50/50 | DEVICE : cuda | EPOCH TIME 31 SEC\u001B[1;36mm[1;36m\u001B[1;36m\u001B[1;36m\u001B[1;36m\u001B[1;36m\u001B[1;36m\u001B[1;36m\u001B[1;36m\u001B[1;36m\u001B[1;36m\u001B[1;36m\u001B[1;36m\u001B[1;36m\u001B[1;36m\u001B[1;36m\u001B[1;36m\u001B[1;36m\u001B[1;36m\u001B[1;36m\u001B[1;36m\u001B[1;36m\u001B[1;36m\u001B[1;36m\u001B[1;36m\n",
      "\n",
      "\u001B[1;36m==> MODEL SAVED SUCCESSFULLY\n",
      "\u001B[1;36mQUESTION : hello how are you?\n",
      "\u001B[1;36mPREDICTION : ever watch watching movies, how about you ever art that. hi, that. hi, how about you? hi! without not think that. hi there what imaginative? i find the past it has a much about the movie? hi! hiccups are you follow politics? friend? hello there first three are you? hi, how much, fiction at all together. hey there is fascinating. did youally fan of star wars fan? different baseball, that was myself but the republican party was good evening! do youyte during instagram headquarters, golf, how are you go frozen?\n",
      "EPOCH : [41/1000] | LOSS : 0.23346295952796936 | EPOCH LOSS AVG : 0.22517489671707153 | ITER : 50/50 | DEVICE : cuda | EPOCH TIME 32 SEC\u001B[1;36m[1;36m\u001B[1;36m\u001B[1;36m\u001B[1;36m\u001B[1;36m\u001B[1;36m\u001B[1;36m\u001B[1;36m\u001B[1;36m\u001B[1;36m\u001B[1;36m\u001B[1;36m\u001B[1;36m\u001B[1;36m\u001B[1;36m\u001B[1;36m\u001B[1;36m\u001B[1;36m\u001B[1;36m\u001B[1;36m\u001B[1;36m\u001B[1;36m\u001B[1;36m\u001B[1;36m\n",
      "EPOCH : [42/1000] | LOSS : 0.23661532998085022 | EPOCH LOSS AVG : 0.20466279923915864 | ITER : 50/50 | DEVICE : cuda | EPOCH TIME 34 SEC[1;36mm[1;36m\u001B[1;36m\u001B[1;36m\u001B[1;36m\u001B[1;36m\u001B[1;36m\u001B[1;36m\u001B[1;36m\u001B[1;36m\u001B[1;36m\u001B[1;36m\u001B[1;36m\u001B[1;36m\u001B[1;36m\u001B[1;36m\u001B[1;36m\u001B[1;36m\u001B[1;36m\u001B[1;36m\u001B[1;36m\u001B[1;36m\u001B[1;36m\u001B[1;36m\u001B[1;36m\n",
      "EPOCH : [43/1000] | LOSS : 0.22431686520576477 | EPOCH LOSS AVG : 0.19532153785228729 | ITER : 50/50 | DEVICE : cuda | EPOCH TIME 32 SEC\u001B[1;36m[1;36m\u001B[1;36m\u001B[1;36m\u001B[1;36m\u001B[1;36m\u001B[1;36m\u001B[1;36m\u001B[1;36m\u001B[1;36m\u001B[1;36m\u001B[1;36m\u001B[1;36m\u001B[1;36m\u001B[1;36m\u001B[1;36m\u001B[1;36m\u001B[1;36m\u001B[1;36m\u001B[1;36m\u001B[1;36m\u001B[1;36m\u001B[1;36m\u001B[1;36m\u001B[1;36m\n",
      "EPOCH : [44/1000] | LOSS : 0.15046089887619019 | EPOCH LOSS AVG : 0.16907495617866516 | ITER : 50/50 | DEVICE : cuda | EPOCH TIME 32 SEC\u001B[1;36m[1;36m\u001B[1;36m\u001B[1;36m\u001B[1;36m\u001B[1;36m\u001B[1;36m\u001B[1;36m\u001B[1;36m\u001B[1;36m\u001B[1;36m\u001B[1;36m\u001B[1;36m\u001B[1;36m\u001B[1;36m\u001B[1;36m\u001B[1;36m\u001B[1;36m\u001B[1;36m\u001B[1;36m\u001B[1;36m\u001B[1;36m\u001B[1;36m\u001B[1;36m\u001B[1;36m\n",
      "EPOCH : [45/1000] | LOSS : 0.1499679982662201 | EPOCH LOSS AVG : 0.14450077325105667 | ITER : 50/50 | DEVICE : cuda | EPOCH TIME 32 SECC\u001B[1;36m;36m\u001B[1;36m\u001B[1;36m\u001B[1;36m\u001B[1;36m\u001B[1;36m\u001B[1;36m\u001B[1;36m\u001B[1;36m\u001B[1;36m\u001B[1;36m\u001B[1;36m\u001B[1;36m\u001B[1;36m\u001B[1;36m\u001B[1;36m\u001B[1;36m\u001B[1;36m\u001B[1;36m\u001B[1;36m\u001B[1;36m\u001B[1;36m\u001B[1;36m\u001B[1;36m\n",
      "\n",
      "\u001B[1;36m==> MODEL SAVED SUCCESSFULLY\n",
      "\u001B[1;36mQUESTION : hello how are you?\n",
      "\u001B[1;36mPREDICTION : . hi there is story to. i read it's economy am my ins amazon? yes i love to. i love computers. love computers. i read about it in the russians made but love computers. did you read about you know anything about it's sarcastic? hi, how deep it's sad, how library of those that. she was made one lately. hi there since i am not like star wars? hey there are you know that some favorites. 5 million living in 1936 the first cloned pet was copy cat. higies and mary library of star wars? i love fish ofia\n",
      "EPOCH : [46/1000] | LOSS : 0.11999726295471191 | EPOCH LOSS AVG : 0.13667509357134502 | ITER : 30/50 | DEVICE : cuda | EPOCH TIME 29 SEC\u001B[1;36m;36m\u001B[1;36m\u001B[1;36m\u001B[1;36m\u001B[1;36m\u001B[1;36m\u001B[1;36m\u001B[1;36m\u001B[1;36m\u001B[1;36m\u001B[1;36m\u001B[1;36m\u001B[1;36m\u001B[1;36m"
     ]
    }
   ],
   "source": [
    "\n",
    "if Config.train:\n",
    "    if Config.load:\n",
    "        for epoch in range(loaded['epoch'], Config.epochs):\n",
    "            loss_avg = 0\n",
    "            st = time.time()\n",
    "            for i, (inp, label) in enumerate(dataloader):\n",
    "                inp = inp.type(torch.long)\n",
    "                label = label.type(torch.long)\n",
    "                inp = make2d(inp).to(Config.device)\n",
    "                label = make2d(label).to(Config.device)\n",
    "                predict = model(inputs=inp)\n",
    "                optimizer.zero_grad(set_to_none=True)\n",
    "                loss = criterion(predict.permute(0, 2, 1), label.view(-1, label.size(-1)))\n",
    "                loss_avg += loss.item()\n",
    "                loss.backward()\n",
    "                optimizer.step()\n",
    "                fprint(\n",
    "                    f'\\rEPOCH : [{epoch + 1}/{Config.epochs}] | LOSS : {loss.item() / Config.batch_size} | EPOCH LOSS AVG : {(loss_avg / (i + 1)) / Config.batch_size} | ITER : {i + 1}/{mxl} | DEVICE : {Config.device} | EPOCH TIME {int(time.time() - st)} SEC',\n",
    "                    end='')\n",
    "\n",
    "            print()\n",
    "            if (epoch + 1) % 5 == 0:\n",
    "                print()\n",
    "                save_model(model=model.state_dict(), optimizer=optimizer.state_dict(), epochs=Config.epochs,\n",
    "                           epoch=epoch + 1,\n",
    "                           name='modified_model.pt')\n",
    "                fprint('==> MODEL SAVED SUCCESSFULLY')\n",
    "                predictions = model.generate(idx=question, eos=dataset.tokenizer.eos_token_id,\n",
    "                                             generate=256\n",
    "\n",
    "                                             )\n",
    "                fprint(f'QUESTION : {dataset.decode(question)}')\n",
    "                fprint(f'PREDICTION : {dataset.decode(predictions)}')\n",
    "    else:\n",
    "        for epoch in range(Config.epochs):\n",
    "            loss_avg = 0\n",
    "            st = time.time()\n",
    "            for i, (inp, label) in enumerate(dataloader):\n",
    "                inp = inp.type(torch.long)\n",
    "                label = label.type(torch.long)\n",
    "                inp = make2d(inp).to(Config.device)\n",
    "                label = make2d(label).to(Config.device)\n",
    "                predict = model(inputs=inp)\n",
    "                optimizer.zero_grad(set_to_none=True)\n",
    "                loss = criterion(predict.permute(0, 2, 1), label.view(-1, label.size(-1)))\n",
    "                loss_avg += loss.item()\n",
    "                loss.backward()\n",
    "                optimizer.step()\n",
    "                fprint(\n",
    "                    f'\\rEPOCH : [{epoch + 1}/{Config.epochs}] | LOSS : {loss.item() / Config.batch_size} | EPOCH LOSS AVG : {(loss_avg / (i + 1)) / Config.batch_size} | ITER : {i + 1}/{mxl} | DEVICE : {Config.device} | EPOCH TIME {int(time.time() - st)} SEC',\n",
    "                    end='')\n",
    "\n",
    "            print()\n",
    "            if (epoch + 1) % 5 == 0:\n",
    "                print()\n",
    "                save_model(model=model.state_dict(), optimizer=optimizer.state_dict(), epochs=Config.epochs,\n",
    "                           epoch=epoch + 1,\n",
    "                           name='model.pt')\n",
    "                fprint('==> MODEL SAVED SUCCESSFULLY')\n",
    "                predictions = model.generate(idx=question, eos=dataset.tokenizer.eos_token_id,\n",
    "                                             generate=256\n",
    "\n",
    "                                             )\n",
    "                fprint(f'QUESTION : {dataset.decode(question)}')\n",
    "                fprint(f'PREDICTION : {dataset.decode(predictions)}')\n"
   ],
   "metadata": {
    "collapsed": false,
    "pycharm": {
     "name": "#%%\n",
     "is_executing": true
    }
   }
  },
  {
   "cell_type": "code",
   "execution_count": null,
   "outputs": [],
   "source": [],
   "metadata": {
    "collapsed": false,
    "pycharm": {
     "name": "#%%\n"
    }
   }
  },
  {
   "cell_type": "code",
   "execution_count": null,
   "outputs": [],
   "source": [],
   "metadata": {
    "collapsed": false,
    "pycharm": {
     "name": "#%%\n"
    }
   }
  },
  {
   "cell_type": "code",
   "execution_count": 9,
   "outputs": [
    {
     "name": "stdout",
     "output_type": "stream",
     "text": [
      "tensor([1029.,  102., 2748., 1010., 1045.]) tensor([ 102., 2748., 1010., 1045., 2228.])\n"
     ]
    }
   ],
   "source": [
    "for i, (inp, label) in enumerate(dataloader):\n",
    "    print(inp[0][0, -5:], label[0][0, -5:])\n",
    "    break"
   ],
   "metadata": {
    "collapsed": false,
    "pycharm": {
     "name": "#%%\n"
    }
   }
  },
  {
   "cell_type": "code",
   "execution_count": null,
   "outputs": [],
   "source": [],
   "metadata": {
    "collapsed": false,
    "pycharm": {
     "name": "#%%\n"
    }
   }
  }
 ],
 "metadata": {
  "kernelspec": {
   "display_name": "Python 3",
   "language": "python",
   "name": "python3"
  },
  "language_info": {
   "codemirror_mode": {
    "name": "ipython",
    "version": 2
   },
   "file_extension": ".py",
   "mimetype": "text/x-python",
   "name": "python",
   "nbconvert_exporter": "python",
   "pygments_lexer": "ipython2",
   "version": "2.7.6"
  }
 },
 "nbformat": 4,
 "nbformat_minor": 0
}