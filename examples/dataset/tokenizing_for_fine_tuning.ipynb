{
 "cells": [
  {
   "cell_type": "code",
   "execution_count": null,
   "outputs": [],
   "source": [
    "from datasets import load_dataset, Dataset, DatasetDict\n",
    "from transformers import AutoTokenizer\n",
    "from tqdm import tqdm"
   ],
   "metadata": {
    "collapsed": false
   }
  },
  {
   "cell_type": "code",
   "execution_count": null,
   "outputs": [],
   "source": [
    "available_jax_models = [\n",
    "    'erfanzar/FlaxMpt-7B',\n",
    "    'erfanzar/FlaxMpt-1B',\n",
    "    'erfanzar/FlaxFalcon',\n",
    "    'erfanzar/JaxLLama',\n",
    "    'erfanzar/GT-J'\n",
    "]"
   ],
   "metadata": {
    "collapsed": false
   }
  },
  {
   "cell_type": "code",
   "execution_count": null,
   "outputs": [],
   "source": [
    "model_id = '<YOUR_MODEL_ID_HERE>'\n",
    "push_to = '<HUGGINGFACE_REPO_NAME_TO_PUSH_DATASET>'\n",
    "tokenizer_id = \"<TOKENIZER_ID>\"\n",
    "data_set_name = '<DATASET_NAME_TO_TOKENIZE>'\n",
    "use_padding = True\n",
    "block_size = 2048\n",
    "use_over = True\n",
    "pretrain = False\n",
    "minimum_length = block_size // 2\n",
    "pre_train_pick_up = 1  # between 0.0 - 1.0"
   ],
   "metadata": {
    "collapsed": false
   }
  },
  {
   "cell_type": "code",
   "execution_count": null,
   "outputs": [],
   "source": [
    "assert model_id in available_jax_models"
   ],
   "metadata": {
    "collapsed": false
   }
  },
  {
   "cell_type": "code",
   "execution_count": null,
   "outputs": [],
   "source": [
    "tokenizer = AutoTokenizer.from_pretrained(tokenizer_id)\n",
    "data = load_dataset(data_set_name)"
   ],
   "metadata": {
    "collapsed": false
   }
  },
  {
   "cell_type": "code",
   "execution_count": null,
   "outputs": [],
   "source": [
    "data = data.map(\n",
    "    lambda x: tokenizer(x['news'], ),\n",
    "    remove_columns=data['train'].column_names,\n",
    "    batched=True,\n",
    "    batch_size=1000\n",
    ")\n",
    "\n",
    "\n",
    "def simple_chunk(input_ids_, attention_mask_, chunk=512, drop_last=True):\n",
    "    input_ids = []\n",
    "    attention_mask = []\n",
    "\n",
    "    for current_chunk in range(0, len(attention_mask_), chunk):\n",
    "        try:\n",
    "            input_ids.append(input_ids_[current_chunk:current_chunk + chunk])\n",
    "            attention_mask.append(attention_mask_[current_chunk:current_chunk + chunk])\n",
    "        except KeyError:\n",
    "            if not drop_last:\n",
    "                input_ids.append(input_ids_[current_chunk:])\n",
    "                attention_mask.append(attention_mask_[current_chunk:])\n",
    "    if len(input_ids[-1]) != chunk and not drop_last:\n",
    "        rem = chunk - len(input_ids[-1])\n",
    "        added_remo = [0 for _ in range(rem)]\n",
    "        input_ids[-1] += added_remo\n",
    "        attention_mask[-1] += added_remo\n",
    "    return input_ids, attention_mask\n"
   ],
   "metadata": {
    "collapsed": false
   }
  },
  {
   "cell_type": "code",
   "execution_count": null,
   "outputs": [],
   "source": [
    "if use_padding and use_over:\n",
    "    def g_gen():\n",
    "        for i in data['train']:\n",
    "            input_ids = i['input_ids']\n",
    "            if len(input_ids) > minimum_length:\n",
    "                origin = tokenizer(tokenizer.decode(input_ids), max_length=block_size, padding='max_length')\n",
    "                yield origin\n",
    "\n",
    "\n",
    "    data_set = DatasetDict({'train': Dataset.from_generator(g_gen)})\n",
    "    data_set.push_to_hub(push_to)\n",
    "elif use_padding and not use_over:\n",
    "    data.push_to_hub(push_to)\n",
    "elif pretrain:\n",
    "    i, a = [], []\n",
    "    for s in tqdm(data['train']):\n",
    "        i += s['input_ids']\n",
    "        a += s['attention_mask']\n",
    "    ii, aa = simple_chunk(i, a, block_size, False)\n",
    "    len_ = int(len(aa) * pre_train_pick_up)\n",
    "\n",
    "\n",
    "    def gen():\n",
    "        for I, A in tqdm(zip(ii[:len_], aa[:len_]), total=len_):\n",
    "            yield {'input_ids': I, 'attention_mask': A}\n",
    "\n",
    "\n",
    "    data_set = DatasetDict({'train': Dataset.from_generator(gen)})\n",
    "    data.push_to_hub(push_to)\n",
    "else:\n",
    "    raise ValueError"
   ],
   "metadata": {
    "collapsed": false
   }
  }
 ],
 "metadata": {
  "kernelspec": {
   "display_name": "Python 3",
   "language": "python",
   "name": "python3"
  },
  "language_info": {
   "codemirror_mode": {
    "name": "ipython",
    "version": 2
   },
   "file_extension": ".py",
   "mimetype": "text/x-python",
   "name": "python",
   "nbconvert_exporter": "python",
   "pygments_lexer": "ipython2",
   "version": "2.7.6"
  }
 },
 "nbformat": 4,
 "nbformat_minor": 0
}
