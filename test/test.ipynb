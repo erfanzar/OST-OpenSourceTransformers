{
 "cells": [
  {
   "cell_type": "code",
   "execution_count": 10,
   "metadata": {
    "collapsed": true,
    "pycharm": {
     "name": "#%%\n"
    }
   },
   "outputs": [],
   "source": [
    "import torch\n",
    "import torch.nn as nn\n",
    "from torch.nn import functional as F\n",
    "from erutils.command_line_interface import *"
   ]
  },
  {
   "cell_type": "code",
   "execution_count": 20,
   "outputs": [],
   "source": [
    "batch = 4\n",
    "chunk = 8\n",
    "channel = 32\n",
    "head_size = 16\n",
    "B, T, C = batch, chunk, channel\n",
    "\n",
    "wei = torch.tril(torch.ones(T, T))\n",
    "x = torch.randn(B, T, C)"
   ],
   "metadata": {
    "collapsed": false,
    "pycharm": {
     "name": "#%%\n"
    }
   }
  },
  {
   "cell_type": "code",
   "execution_count": 21,
   "outputs": [
    {
     "name": "stdout",
     "output_type": "stream",
     "text": [
      "\u001B[1;36mtensor([[[-1.3889,  1.7322,  0.4554,  ...,  1.1413, -1.2619, -0.5461],\n",
      "         [ 0.9769, -1.5209,  0.5069,  ..., -0.7169, -0.5230, -0.4829],\n",
      "         [-0.5189,  0.3361, -0.1405,  ..., -0.3845,  0.2516,  0.0395],\n",
      "         ...,\n",
      "         [-1.2422, -1.3158, -0.6333,  ...,  1.6936, -0.7376,  0.2938],\n",
      "         [ 1.1602, -0.9791,  0.9296,  ...,  0.2606, -0.0117,  1.8600],\n",
      "         [-0.4048,  0.8249,  1.2824,  ...,  1.8931, -1.0635,  0.1363]],\n",
      "\n",
      "        [[ 0.4437, -0.3882,  1.0796,  ...,  0.6852, -1.1848, -0.7298],\n",
      "         [ 1.4268, -1.0592, -0.7368,  ...,  0.0715, -2.7828, -0.3326],\n",
      "         [ 1.0280, -0.2288, -0.7574,  ..., -0.4472,  0.4489, -1.9767],\n",
      "         ...,\n",
      "         [-0.6573,  1.1632,  1.1656,  ...,  0.2037,  1.9560,  1.2547],\n",
      "         [ 0.9776,  0.6024,  0.3535,  ...,  1.3581, -0.4072,  0.5468],\n",
      "         [-0.7350, -1.4649, -0.5454,  ..., -1.4068,  0.0130, -0.1184]],\n",
      "\n",
      "        [[-0.5354, -1.7225, -0.1682,  ...,  1.1589, -1.4658,  1.0281],\n",
      "         [ 0.2916, -1.7385, -0.2498,  ..., -0.1696, -0.6943,  0.5490],\n",
      "         [-0.7296,  2.5781,  0.1381,  ..., -1.2931, -1.3260, -0.5288],\n",
      "         ...,\n",
      "         [-0.0308,  0.3088, -0.5225,  ...,  0.6484, -0.3795,  1.4241],\n",
      "         [ 0.9358, -0.3569, -0.2616,  ..., -0.9123, -0.7938, -0.4920],\n",
      "         [ 0.0392, -0.6990,  0.6180,  ...,  0.5526,  0.0934, -0.5695]],\n",
      "\n",
      "        [[-0.9140, -1.2773, -0.2569,  ...,  0.2650, -0.9164,  0.7247],\n",
      "         [-1.4389,  1.0610, -0.5553,  ..., -0.1834,  0.6513, -1.2610],\n",
      "         [ 1.0262,  1.1668, -1.1341,  ..., -0.7483, -0.2231, -2.0413],\n",
      "         ...,\n",
      "         [-0.2195, -0.5738,  0.3820,  ...,  0.9325,  1.2852, -0.3167],\n",
      "         [ 1.1952,  0.6219,  0.3290,  ..., -0.0403, -0.8916, -0.9642],\n",
      "         [-1.6765, -0.2212, -1.2680,  ..., -0.6404,  0.0331, -1.7503]]])\n",
      "\u001B[1;36mtensor([[1., 0., 0., 0., 0., 0., 0., 0.],\n",
      "        [1., 1., 0., 0., 0., 0., 0., 0.],\n",
      "        [1., 1., 1., 0., 0., 0., 0., 0.],\n",
      "        [1., 1., 1., 1., 0., 0., 0., 0.],\n",
      "        [1., 1., 1., 1., 1., 0., 0., 0.],\n",
      "        [1., 1., 1., 1., 1., 1., 0., 0.],\n",
      "        [1., 1., 1., 1., 1., 1., 1., 0.],\n",
      "        [1., 1., 1., 1., 1., 1., 1., 1.]])\n",
      "\u001B[1;36mtorch.Size([4, 8, 32])\n",
      "\u001B[1;36mtorch.Size([8, 8])\n"
     ]
    }
   ],
   "source": [
    "fprint(x)\n",
    "fprint(wei)\n",
    "fprint(x.shape)\n",
    "fprint(wei.shape)"
   ],
   "metadata": {
    "collapsed": false,
    "pycharm": {
     "name": "#%%\n"
    }
   }
  },
  {
   "cell_type": "code",
   "execution_count": 10,
   "outputs": [],
   "source": [
    "wei_u = wei / wei.sum(1, keepdim=True)"
   ],
   "metadata": {
    "collapsed": false,
    "pycharm": {
     "name": "#%%\n"
    }
   }
  },
  {
   "cell_type": "code",
   "execution_count": 11,
   "outputs": [
    {
     "data": {
      "text/plain": "tensor([[1.0000, 0.0000, 0.0000, 0.0000, 0.0000, 0.0000, 0.0000, 0.0000],\n        [0.5000, 0.5000, 0.0000, 0.0000, 0.0000, 0.0000, 0.0000, 0.0000],\n        [0.3333, 0.3333, 0.3333, 0.0000, 0.0000, 0.0000, 0.0000, 0.0000],\n        [0.2500, 0.2500, 0.2500, 0.2500, 0.0000, 0.0000, 0.0000, 0.0000],\n        [0.2000, 0.2000, 0.2000, 0.2000, 0.2000, 0.0000, 0.0000, 0.0000],\n        [0.1667, 0.1667, 0.1667, 0.1667, 0.1667, 0.1667, 0.0000, 0.0000],\n        [0.1429, 0.1429, 0.1429, 0.1429, 0.1429, 0.1429, 0.1429, 0.0000],\n        [0.1250, 0.1250, 0.1250, 0.1250, 0.1250, 0.1250, 0.1250, 0.1250]])"
     },
     "execution_count": 11,
     "metadata": {},
     "output_type": "execute_result"
    }
   ],
   "source": [
    "wei_u"
   ],
   "metadata": {
    "collapsed": false,
    "pycharm": {
     "name": "#%%\n"
    }
   }
  },
  {
   "cell_type": "code",
   "execution_count": 12,
   "outputs": [],
   "source": [
    "out = wei_u @ x"
   ],
   "metadata": {
    "collapsed": false,
    "pycharm": {
     "name": "#%%\n"
    }
   }
  },
  {
   "cell_type": "code",
   "execution_count": 15,
   "outputs": [
    {
     "data": {
      "text/plain": "tensor([[-0.1375,  1.4464],\n        [ 0.3996,  1.1857],\n        [ 0.3245,  0.5956],\n        [ 0.3577,  0.4832],\n        [ 0.6910,  0.3519],\n        [ 0.9176,  0.2630],\n        [ 0.6695,  0.0588],\n        [ 0.3012,  0.0066]])"
     },
     "execution_count": 15,
     "metadata": {},
     "output_type": "execute_result"
    }
   ],
   "source": [
    "out[0]"
   ],
   "metadata": {
    "collapsed": false,
    "pycharm": {
     "name": "#%%\n"
    }
   }
  },
  {
   "cell_type": "code",
   "execution_count": 37,
   "outputs": [],
   "source": [],
   "metadata": {
    "collapsed": false,
    "pycharm": {
     "name": "#%%\n"
    }
   }
  },
  {
   "cell_type": "code",
   "execution_count": 38,
   "outputs": [],
   "source": [
    "x = torch.randn(B, T, C)"
   ],
   "metadata": {
    "collapsed": false,
    "pycharm": {
     "name": "#%%\n"
    }
   }
  },
  {
   "cell_type": "code",
   "execution_count": 33,
   "outputs": [
    {
     "data": {
      "text/plain": "torch.Size([4, 8, 32])"
     },
     "execution_count": 33,
     "metadata": {},
     "output_type": "execute_result"
    }
   ],
   "source": [
    "x.shape"
   ],
   "metadata": {
    "collapsed": false,
    "pycharm": {
     "name": "#%%\n"
    }
   }
  },
  {
   "cell_type": "code",
   "execution_count": 34,
   "outputs": [],
   "source": [
    "q = query(x)\n",
    "k = key(x)\n",
    "wei = q @ k.transpose(-2, -1)  # (B,T,C) @ (B,C,T) -> (B,T,T)"
   ],
   "metadata": {
    "collapsed": false,
    "pycharm": {
     "name": "#%%\n"
    }
   }
  },
  {
   "cell_type": "code",
   "execution_count": 35,
   "outputs": [
    {
     "data": {
      "text/plain": "tensor([[ 1.5245,  0.2666, -0.9527,  0.3459,  0.0797, -1.1958, -0.3120,  0.3097],\n        [ 0.7752, -1.1551, -0.6436, -0.4966,  0.4932, -1.2287,  0.3951,  0.7215],\n        [ 0.5075,  1.0929,  1.3904,  0.0424,  0.8485,  0.7476,  1.5912,  0.3154],\n        [-0.1204,  0.5672,  0.1072, -2.5145,  0.2561, -0.8919, -1.1769,  0.4475],\n        [ 1.4162, -0.1153,  0.6543, -1.4144, -0.1589, -0.6951, -0.8311, -0.6641],\n        [ 0.0591,  0.6327, -0.6453, -0.5096,  1.7258, -1.8088,  0.1996,  0.9214],\n        [ 0.1479, -0.4396,  0.1087, -0.2881,  0.3137, -0.0395,  0.6278, -0.1509],\n        [-0.0097,  0.3331, -1.5143,  1.2115,  0.1943,  0.2910, -1.4325,  0.5627]],\n       grad_fn=<SelectBackward0>)"
     },
     "execution_count": 35,
     "metadata": {},
     "output_type": "execute_result"
    }
   ],
   "source": [
    "wei[0]"
   ],
   "metadata": {
    "collapsed": false,
    "pycharm": {
     "name": "#%%\n"
    }
   }
  },
  {
   "cell_type": "code",
   "execution_count": 36,
   "outputs": [
    {
     "data": {
      "text/plain": "tensor([[1.0000, 0.0000, 0.0000, 0.0000, 0.0000, 0.0000, 0.0000, 0.0000],\n        [0.8733, 0.1267, 0.0000, 0.0000, 0.0000, 0.0000, 0.0000, 0.0000],\n        [0.1918, 0.3444, 0.4638, 0.0000, 0.0000, 0.0000, 0.0000, 0.0000],\n        [0.2306, 0.4587, 0.2896, 0.0210, 0.0000, 0.0000, 0.0000, 0.0000],\n        [0.5131, 0.1109, 0.2395, 0.0303, 0.1062, 0.0000, 0.0000, 0.0000],\n        [0.1077, 0.1911, 0.0533, 0.0610, 0.5703, 0.0166, 0.0000, 0.0000],\n        [0.1473, 0.0819, 0.1416, 0.0952, 0.1739, 0.1221, 0.2380, 0.0000],\n        [0.0942, 0.1328, 0.0209, 0.3195, 0.1156, 0.1273, 0.0227, 0.1670]],\n       grad_fn=<SelectBackward0>)"
     },
     "execution_count": 36,
     "metadata": {},
     "output_type": "execute_result"
    }
   ],
   "source": [
    "trill = torch.tril(torch.ones((T, T)))\n",
    "wei = wei.masked_fill(trill == 0, float('-inf'))\n",
    "wei = f.softmax(wei, dim=-1)\n",
    "wei[0]"
   ],
   "metadata": {
    "collapsed": false,
    "pycharm": {
     "name": "#%%\n"
    }
   }
  },
  {
   "cell_type": "code",
   "execution_count": 39,
   "outputs": [
    {
     "data": {
      "text/plain": "torch.Size([4, 8, 16])"
     },
     "execution_count": 39,
     "metadata": {},
     "output_type": "execute_result"
    }
   ],
   "source": [
    "v = value(x)\n",
    "\n",
    "out = wei @ v\n",
    "out.shape"
   ],
   "metadata": {
    "collapsed": false,
    "pycharm": {
     "name": "#%%\n"
    }
   }
  },
  {
   "cell_type": "code",
   "execution_count": 40,
   "outputs": [
    {
     "data": {
      "text/plain": "tensor([[-0.6000, -0.1009,  0.3509,  0.1668, -0.3324,  0.3932, -0.5535, -0.2136,\n          0.1832, -0.3507,  0.6178,  0.1775, -0.2511, -0.1789, -0.3238,  1.0005],\n        [-0.3103, -0.1107,  0.3253,  0.1473, -0.2659,  0.2882, -0.4794, -0.2161,\n          0.0731, -0.2645,  0.5403,  0.1005, -0.2625, -0.2253, -0.2109,  0.8247],\n        [ 0.1917, -0.0940,  0.4344, -0.5346, -0.4362,  0.1923,  0.1826, -0.4705,\n          0.0849, -0.6617,  0.0718,  0.4117,  0.1817, -0.2740,  0.9764,  0.1610],\n        [ 0.4670, -0.1253,  0.3523, -0.3214, -0.2556,  0.0531,  0.0624, -0.3717,\n         -0.0972, -0.3683,  0.1257,  0.1571, -0.0037, -0.3361,  0.6970,  0.1196],\n        [-0.2675, -0.0369,  0.3093, -0.2212, -0.2785,  0.2922, -0.1058, -0.2840,\n          0.2578, -0.5422,  0.2064,  0.2292, -0.0650, -0.0217,  0.3267,  0.5272],\n        [ 0.1776,  0.2427, -0.1996, -0.0755,  0.4251,  0.0276,  0.1332,  0.0411,\n          0.4370, -0.2521, -0.4658, -0.3974, -0.4314,  0.7762,  0.2214,  0.0574],\n        [-0.1019,  0.1237,  0.0935, -0.2772, -0.0604,  0.1531,  0.0692, -0.0921,\n          0.2692, -0.3532, -0.3348, -0.2666, -0.2706,  0.1555,  0.2743,  0.2903],\n        [ 0.2298, -0.0627,  0.1264, -0.2686,  0.0519,  0.0024, -0.1353, -0.0414,\n         -0.0391,  0.1584,  0.1651, -0.5041, -0.2176, -0.3033, -0.1293,  0.1197]],\n       grad_fn=<SelectBackward0>)"
     },
     "execution_count": 40,
     "metadata": {},
     "output_type": "execute_result"
    }
   ],
   "source": [
    "out[0]"
   ],
   "metadata": {
    "collapsed": false,
    "pycharm": {
     "name": "#%%\n"
    }
   }
  },
  {
   "cell_type": "code",
   "execution_count": 41,
   "outputs": [],
   "source": [
    "key = nn.Linear(C, head_size, bias=False)\n",
    "query = nn.Linear(C, head_size, bias=False)\n",
    "value = nn.Linear(C, head_size, bias=False)"
   ],
   "metadata": {
    "collapsed": false,
    "pycharm": {
     "name": "#%%\n"
    }
   }
  },
  {
   "cell_type": "code",
   "execution_count": 42,
   "outputs": [],
   "source": [
    "x = torch.randn((B, T, C))\n",
    "q = query(x)\n",
    "k = key(x)\n",
    "v = value(x)\n",
    "wei = q @ k.transpose(-2, -1) * head_size ** -0.5\n",
    "trill = torch.tril(torch.ones(T, T))\n",
    "wei = wei.masked_fill(trill == 0, float('-inf'))\n",
    "wei = f.softmax(wei, dim=-1)\n",
    "out = wei @ v\n"
   ],
   "metadata": {
    "collapsed": false,
    "pycharm": {
     "name": "#%%\n"
    }
   }
  },
  {
   "cell_type": "code",
   "execution_count": 44,
   "outputs": [
    {
     "data": {
      "text/plain": "tensor([[1.0000, 0.0000, 0.0000, 0.0000, 0.0000, 0.0000, 0.0000, 0.0000],\n        [0.5829, 0.4171, 0.0000, 0.0000, 0.0000, 0.0000, 0.0000, 0.0000],\n        [0.4209, 0.3279, 0.2512, 0.0000, 0.0000, 0.0000, 0.0000, 0.0000],\n        [0.4538, 0.1940, 0.1328, 0.2194, 0.0000, 0.0000, 0.0000, 0.0000],\n        [0.1986, 0.1427, 0.1454, 0.3062, 0.2070, 0.0000, 0.0000, 0.0000],\n        [0.1878, 0.1488, 0.1570, 0.2069, 0.1894, 0.1101, 0.0000, 0.0000],\n        [0.0803, 0.1554, 0.1862, 0.1992, 0.1740, 0.1150, 0.0899, 0.0000],\n        [0.1765, 0.1092, 0.0981, 0.1217, 0.1159, 0.0739, 0.2036, 0.1011]],\n       grad_fn=<SelectBackward0>)"
     },
     "execution_count": 44,
     "metadata": {},
     "output_type": "execute_result"
    }
   ],
   "source": [
    "wei[0]"
   ],
   "metadata": {
    "collapsed": false,
    "pycharm": {
     "name": "#%%\n"
    }
   }
  },
  {
   "cell_type": "code",
   "execution_count": 2,
   "outputs": [],
   "source": [
    "number_of_embedded = 32\n",
    "number_of_heads = 16\n",
    "dp1 = nn.Dropout(0.2)\n",
    "dp2 = nn.Dropout(0.2)\n",
    "attn = nn.Linear(number_of_embedded, 3 * number_of_embedded)\n",
    "proj = nn.Linear(number_of_embedded, number_of_embedded)"
   ],
   "metadata": {
    "collapsed": false,
    "pycharm": {
     "name": "#%%\n"
    }
   }
  },
  {
   "cell_type": "code",
   "execution_count": 3,
   "outputs": [],
   "source": [
    "chunk = 64\n",
    "x = torch.randn(10, chunk, number_of_embedded)\n",
    "B, T, C = x.shape"
   ],
   "metadata": {
    "collapsed": false,
    "pycharm": {
     "name": "#%%\n"
    }
   }
  },
  {
   "cell_type": "code",
   "execution_count": 4,
   "outputs": [
    {
     "name": "stdout",
     "output_type": "stream",
     "text": [
      "xShape :::  torch.Size([10, 64, 96])\n"
     ]
    }
   ],
   "source": [
    "x = attn(x)\n",
    "print('xShape ::: ', x.shape)\n",
    "q, k, v = x.split(number_of_embedded, dim=2)"
   ],
   "metadata": {
    "collapsed": false,
    "pycharm": {
     "name": "#%%\n"
    }
   }
  },
  {
   "cell_type": "code",
   "execution_count": 5,
   "outputs": [
    {
     "data": {
      "text/plain": "torch.Size([10, 64, 32])"
     },
     "execution_count": 5,
     "metadata": {},
     "output_type": "execute_result"
    }
   ],
   "source": [
    "q.shape"
   ],
   "metadata": {
    "collapsed": false,
    "pycharm": {
     "name": "#%%\n"
    }
   }
  },
  {
   "cell_type": "code",
   "execution_count": 6,
   "outputs": [
    {
     "data": {
      "text/plain": "torch.Size([10, 64, 32])"
     },
     "execution_count": 6,
     "metadata": {},
     "output_type": "execute_result"
    }
   ],
   "source": [
    "q.shape\n"
   ],
   "metadata": {
    "collapsed": false,
    "pycharm": {
     "name": "#%%\n"
    }
   }
  },
  {
   "cell_type": "code",
   "execution_count": 7,
   "outputs": [],
   "source": [
    "q = q.view(B, T, number_of_heads, C // number_of_heads).transpose(1, 2)\n",
    "k = k.view(B, T, number_of_heads, C // number_of_heads).transpose(1, 2)\n",
    "v = v.view(B, T, number_of_heads, C // number_of_heads).transpose(1, 2)"
   ],
   "metadata": {
    "collapsed": false,
    "pycharm": {
     "name": "#%%\n"
    }
   }
  },
  {
   "cell_type": "code",
   "execution_count": 8,
   "outputs": [],
   "source": [
    "v.shape\n",
    "import math\n"
   ],
   "metadata": {
    "collapsed": false,
    "pycharm": {
     "name": "#%%\n"
    }
   }
  },
  {
   "cell_type": "code",
   "execution_count": 15,
   "outputs": [
    {
     "data": {
      "text/plain": "torch.Size([10, 16, 64, 64])"
     },
     "execution_count": 15,
     "metadata": {},
     "output_type": "execute_result"
    }
   ],
   "source": [
    "att = q @ k.transpose(-2, -1) * (1.0 / math.sqrt(k.size(0)))\n",
    "att.shape"
   ],
   "metadata": {
    "collapsed": false,
    "pycharm": {
     "name": "#%%\n"
    }
   }
  },
  {
   "cell_type": "code",
   "execution_count": 16,
   "outputs": [],
   "source": [
    "bias = torch.tril(torch.ones(T, T).view(1, 1, chunk, chunk))\n",
    "att = att.masked_fill(bias[:, :, :T, :T] == 0, float('-inf'))\n",
    "att = F.softmax(att, dim=-1)"
   ],
   "metadata": {
    "collapsed": false,
    "pycharm": {
     "name": "#%%\n"
    }
   }
  },
  {
   "cell_type": "code",
   "execution_count": 17,
   "outputs": [],
   "source": [
    "att = dp1(att)"
   ],
   "metadata": {
    "collapsed": false,
    "pycharm": {
     "name": "#%%\n"
    }
   }
  },
  {
   "cell_type": "code",
   "execution_count": 18,
   "outputs": [],
   "source": [
    "wei = att @ v"
   ],
   "metadata": {
    "collapsed": false,
    "pycharm": {
     "name": "#%%\n"
    }
   }
  },
  {
   "cell_type": "code",
   "execution_count": 19,
   "outputs": [],
   "source": [
    "wei = wei.transpose(1,2).contiguous().view(B,T,C)"
   ],
   "metadata": {
    "collapsed": false,
    "pycharm": {
     "name": "#%%\n"
    }
   }
  },
  {
   "cell_type": "code",
   "execution_count": 20,
   "outputs": [
    {
     "data": {
      "text/plain": "torch.Size([10, 64, 32])"
     },
     "execution_count": 20,
     "metadata": {},
     "output_type": "execute_result"
    }
   ],
   "source": [
    "wei.shape"
   ],
   "metadata": {
    "collapsed": false,
    "pycharm": {
     "name": "#%%\n"
    }
   }
  },
  {
   "cell_type": "code",
   "execution_count": null,
   "outputs": [],
   "source": [],
   "metadata": {
    "collapsed": false,
    "pycharm": {
     "name": "#%%\n"
    }
   }
  }
 ],
 "metadata": {
  "kernelspec": {
   "display_name": "Python 3",
   "language": "python",
   "name": "python3"
  },
  "language_info": {
   "codemirror_mode": {
    "name": "ipython",
    "version": 2
   },
   "file_extension": ".py",
   "mimetype": "text/x-python",
   "name": "python",
   "nbconvert_exporter": "python",
   "pygments_lexer": "ipython2",
   "version": "2.7.6"
  }
 },
 "nbformat": 4,
 "nbformat_minor": 0
}