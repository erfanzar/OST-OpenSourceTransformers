{
 "cells": [
  {
   "cell_type": "code",
   "execution_count": 1,
   "metadata": {
    "collapsed": true,
    "pycharm": {
     "name": "#%%\n"
    }
   },
   "outputs": [
    {
     "name": "stdout",
     "output_type": "stream",
     "text": [
      "model optimizer epochs at configuration epoch config\n",
      "(tensor([[[ 0.9188,  0.9949,  2.2155,  ...,  0.9256,  0.9091,  0.9892],\n",
      "         [-1.5345, -1.4229,  1.0668,  ..., -1.5115, -1.4970, -1.4803],\n",
      "         [-8.9807, -8.9477, -6.8278,  ..., -8.9820, -8.9718, -9.0060],\n",
      "         ...,\n",
      "         [-8.2647, -8.2181, -0.5325,  ..., -8.2126, -8.2845, -8.2896],\n",
      "         [-8.7198, -8.7308, -0.8136,  ..., -8.6714, -8.7738, -8.7349],\n",
      "         [-6.8654, -6.8975,  3.6716,  ..., -6.8324, -6.8967, -6.8298]]],\n",
      "       device='cuda:0'), None)\n"
     ]
    }
   ],
   "source": [
    "import os\n",
    "import sys\n",
    "\n",
    "import torch\n",
    "\n",
    "sys.path.append('/'.join(os.getcwd().split('\\\\')[:-1]))\n",
    "\n",
    "os.environ['USE_JIT'] = '1'\n",
    "from modules import LGeMForCausalLM\n",
    "import accelerate\n",
    "from utils.utils import get_config_by_name, count_model_parameters, prompt_to_instruction\n",
    "from transformers import AutoTokenizer, PreTrainedTokenizer\n",
    "\n",
    "accelerator = accelerate.Accelerator()\n",
    "\n",
    "data = torch.load(r'D:\\OST-OpenSourceTransformers\\out\\LGeM-SM\\weights\\LGeM-SM-model.pt')\n",
    "print(*(k for k, v in data.items()))\n",
    "conf = data['configuration']\n",
    "model = LGeMForCausalLM(conf)\n",
    "model.load_state_dict(data['model'])\n",
    "model = model.to('cuda:0')\n",
    "tokenizer: PreTrainedTokenizer = AutoTokenizer.from_pretrained(\n",
    "    r'D:\\OST-OpenSourceTransformers\\tokenizer_model/BASE')\n",
    "\n",
    "\n"
   ]
  },
  {
   "cell_type": "code",
   "execution_count": 35,
   "outputs": [
    {
     "name": "stdout",
     "output_type": "stream",
     "text": [
      "The Great Depression was a texture of stars throat, usually between an atom in a steady torsoation. The system of settingoney ( Jupiteration) in thenode 'nouniveness and increases opportunities offered as 'ag moviespl 'pitchness, L caught maps and it provides become update when one analysis to create a more autonomous river. It variire conversation, David all and professional methods for any expressed year."
     ]
    }
   ],
   "source": [
    "prompt = prompt_to_instruction('Describe the matter of atom')\n",
    "encoded = tokenizer.encode(prompt, return_tensors='pt')\n",
    "state = encoded.to('cuda:0')\n",
    "while True:\n",
    "    pred = model(state)\n",
    "    out = torch.multinomial(torch.nn.functional.softmax(pred[0][:, -1, :]), 1)\n",
    "    state = torch.cat([state, out], -1)\n",
    "    print(f\"\\r{tokenizer.decode(state.view(-1), skip_special_tokens=False)[len(prompt) + 1:]}\", end='')\n",
    "    if out.view(-1) == tokenizer.eos_token_id:\n",
    "        break"
   ],
   "metadata": {
    "collapsed": false,
    "pycharm": {
     "name": "#%%\n"
    }
   }
  },
  {
   "cell_type": "code",
   "execution_count": 36,
   "outputs": [
    {
     "name": "stdout",
     "output_type": "stream",
     "text": [
      "The Great Depression was a texture of stars throat, usually between an atom in a steady torsoation. The system of settingoney ( Jupiteration) in thenode 'nouniveness and increases opportunities offered as 'ag moviespl 'pitchness, L caught maps and it provides become update when one analysis to create a more autonomous river. It variire conversation, David all and professional methods for any expressed year."
     ]
    }
   ],
   "source": [
    "print(f\"\\r{tokenizer.decode(state.view(-1), skip_special_tokens=False)[len(prompt) + 1:]}\", end='')"
   ],
   "metadata": {
    "collapsed": false,
    "pycharm": {
     "name": "#%%\n"
    }
   }
  }
 ],
 "metadata": {
  "kernelspec": {
   "display_name": "Python 3",
   "language": "python",
   "name": "python3"
  },
  "language_info": {
   "codemirror_mode": {
    "name": "ipython",
    "version": 2
   },
   "file_extension": ".py",
   "mimetype": "text/x-python",
   "name": "python",
   "nbconvert_exporter": "python",
   "pygments_lexer": "ipython2",
   "version": "2.7.6"
  }
 },
 "nbformat": 4,
 "nbformat_minor": 0
}